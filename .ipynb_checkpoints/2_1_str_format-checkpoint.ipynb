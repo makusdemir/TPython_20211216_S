{
 "cells": [
  {
   "cell_type": "markdown",
   "id": "cross-warrant",
   "metadata": {},
   "source": [
    "## Str ve Formatlama"
   ]
  },
  {
   "cell_type": "code",
   "execution_count": 1,
   "id": "generic-screening",
   "metadata": {},
   "outputs": [
    {
     "data": {
      "text/plain": [
       "'\\nÇok satırlı\\nmetinler\\niçin üç tane \\ntek tırnak\\n'"
      ]
     },
     "execution_count": 1,
     "metadata": {},
     "output_type": "execute_result"
    }
   ],
   "source": [
    "#str tipinde veri tutmak için\n",
    "\n",
    "#1.çift tırmak\n",
    "\"Bu bir metindir.\"\n",
    "\n",
    "#2.tek tırnak\n",
    "'Bu bir metindir.'\n",
    "\n",
    "#3. çoklu satır için üçtane tek veya çift tırnak\n",
    "'''\n",
    "Çok satırlı\n",
    "metinler\n",
    "için üç tane \n",
    "tek tırnak\n",
    "'''\n",
    "\n",
    "#veya\n",
    "\"\"\"\n",
    "Çok satırlı\n",
    "metinler\n",
    "için üç tane \n",
    "tek tırnak\n",
    "\"\"\""
   ]
  },
  {
   "cell_type": "code",
   "execution_count": 2,
   "id": "excessive-chambers",
   "metadata": {},
   "outputs": [
    {
     "data": {
      "text/plain": [
       "'=========='"
      ]
     },
     "execution_count": 2,
     "metadata": {},
     "output_type": "execute_result"
    }
   ],
   "source": [
    "#üyesi mi\n",
    "\"merhaba\" in \"merhaba dünyalı\"\n",
    "\n",
    "#container tipolerdeki bir özellik\n",
    "\"=\" * 10 #10 defa tekrarlar\n",
    "\n",
    "#[1,2] * 10"
   ]
  },
  {
   "cell_type": "markdown",
   "id": "frequent-hawaii",
   "metadata": {},
   "source": [
    "### Bazı str fonksiyonları"
   ]
  },
  {
   "cell_type": "code",
   "execution_count": 3,
   "id": "standing-behavior",
   "metadata": {},
   "outputs": [],
   "source": [
    "#str fonskyionlarını öğrenelim.\n",
    "#dir(str)\n",
    "#help(str)\n",
    "#str.__doc__"
   ]
  },
  {
   "cell_type": "code",
   "execution_count": 4,
   "id": "fitted-input",
   "metadata": {},
   "outputs": [],
   "source": [
    "metin = \"MeRhABA DünYALI  \" #sonunda boşluk var."
   ]
  },
  {
   "cell_type": "code",
   "execution_count": 5,
   "id": "prerequisite-massachusetts",
   "metadata": {},
   "outputs": [
    {
     "data": {
      "text/plain": [
       "'Merhaba Dünyali'"
      ]
     },
     "execution_count": 5,
     "metadata": {},
     "output_type": "execute_result"
    }
   ],
   "source": [
    "#str fonksiyonları şu şekilde kullanılabilir\n",
    "\n",
    "#1.\n",
    "str.title(metin)\n",
    "\n",
    "#2.\n",
    "metin.title()\n",
    "\n",
    "#3.\n",
    "metin.__len__() #magic fonctionlar. bazı durumlarda kullanılması avantajlıdır.\n",
    "#len(metin) #containerların eleman sayısını getirir. \n",
    "\n",
    "#4.\n",
    "metin.strip(\" \").title()\n",
    "str.title(metin.strip(\" \"))"
   ]
  },
  {
   "cell_type": "code",
   "execution_count": 6,
   "id": "computational-bloom",
   "metadata": {},
   "outputs": [
    {
     "data": {
      "text/plain": [
       "'MERHAbA DünYAlI '"
      ]
     },
     "execution_count": 6,
     "metadata": {},
     "output_type": "execute_result"
    }
   ],
   "source": [
    "metin = \"MeRHAbA DünYAlI \" #başında sonunda boşluk var.\n",
    "\n",
    "#\n",
    "len(metin)\n",
    "\n",
    "metin.title()      #\n",
    "metin.capitalize() #sadece ilk kelimenin ilk harfini büyük yapar.\n",
    "metin.upper()\n",
    "metin.lower()\n",
    "\n",
    "metin.strip(\" \") #belirtilen karakterleri baştan ve sondan kaldırır.\n",
    "#metin.rstrip, metin.lstrip, \n",
    "\n",
    "metin.count(\"A\") #3 tane A var.\n",
    "\n",
    "metin.center(30,\"-\") #30 karakter içerisinde ortala, ikinci parametrede de kalan boşluğa ne yazılacağını belirt\n",
    "metin.find(\"A\") #ilk yakaladığı A kaçıncı indexte.\n",
    "\n",
    "metin.replace(\"eRH\",\"ERH\") #belirtilen karekterleri komple değiştirir."
   ]
  },
  {
   "cell_type": "code",
   "execution_count": 7,
   "id": "chinese-convertible",
   "metadata": {},
   "outputs": [
    {
     "data": {
      "text/plain": [
       "1"
      ]
     },
     "execution_count": 7,
     "metadata": {},
     "output_type": "execute_result"
    }
   ],
   "source": [
    "#soru: metin kaç kelimeden oluşur.\n",
    "\n",
    "metin.strip(\" \").count(\" \") #arada bir boşluk var. 2 kelime mevcut."
   ]
  },
  {
   "cell_type": "code",
   "execution_count": 8,
   "id": "sharing-tulsa",
   "metadata": {},
   "outputs": [
    {
     "data": {
      "text/plain": [
       "'XeRHAYA DZnYAlI '"
      ]
     },
     "execution_count": 8,
     "metadata": {},
     "output_type": "execute_result"
    }
   ],
   "source": [
    "#translate\n",
    "#çok fazla karkter değiştirilmesi gerekirse kullanılır.\n",
    "tbl=str.maketrans(\"Mbü\",\"XYZ\") #{77: 88, 98: 89, 252: 90} dict verir. ASCII kodlardan oluşur.\n",
    "metin.translate(tbl)"
   ]
  },
  {
   "cell_type": "code",
   "execution_count": 9,
   "id": "wicked-abortion",
   "metadata": {},
   "outputs": [
    {
     "data": {
      "text/plain": [
       "['MeRHAbA', 'DünYAlI', '']"
      ]
     },
     "execution_count": 9,
     "metadata": {},
     "output_type": "execute_result"
    }
   ],
   "source": [
    "metin.split(\" \") #split ayraca göre ayırır her ayrımı bir liste elemanı haline getirir"
   ]
  },
  {
   "cell_type": "code",
   "execution_count": 10,
   "id": "resident-worst",
   "metadata": {},
   "outputs": [
    {
     "data": {
      "text/plain": [
       "'Abdullah;Kise'"
      ]
     },
     "execution_count": 10,
     "metadata": {},
     "output_type": "execute_result"
    }
   ],
   "source": [
    "#join container elemanlarına uygulanır.\n",
    "\";\".join(\"merhaba\")\n",
    "\n",
    "\";\".join([\"Abdullah\",\"Kise\"])"
   ]
  },
  {
   "cell_type": "markdown",
   "id": "standing-print",
   "metadata": {},
   "source": [
    "### is... fonksiyonlara"
   ]
  },
  {
   "cell_type": "code",
   "execution_count": 11,
   "id": "smooth-leone",
   "metadata": {},
   "outputs": [
    {
     "data": {
      "text/plain": [
       "False"
      ]
     },
     "execution_count": 11,
     "metadata": {},
     "output_type": "execute_result"
    }
   ],
   "source": [
    " #pozitif tam sayı mıdır?\n",
    "\"2021\".isdigit() #True\n",
    "\n",
    "#False\n",
    "\"-2021\".isdigit()\n",
    "\"2.021\".isdigit()"
   ]
  },
  {
   "cell_type": "code",
   "execution_count": 12,
   "id": "champion-chicago",
   "metadata": {},
   "outputs": [
    {
     "data": {
      "text/plain": [
       "False"
      ]
     },
     "execution_count": 12,
     "metadata": {},
     "output_type": "execute_result"
    }
   ],
   "source": [
    "\"2021\".isnumeric() #karekterler sayıdan mı oluşmuş\n",
    "\n",
    "#karakterler alfabedeki harflerden mi oluşur.\n",
    "\"yirmi\".isalpha()\n",
    "\"yirmi1\".isalpha() #False sonunda 1 var.\n",
    "\n",
    "#alfabeki karakter veya sayılar kullanılabilir.\n",
    "\"one2\".isalnum()  #True\n",
    "\"pil@v\".isalnum() #False @ işareti var."
   ]
  },
  {
   "cell_type": "code",
   "execution_count": 13,
   "id": "charming-scene",
   "metadata": {},
   "outputs": [
    {
     "data": {
      "text/plain": [
       "True"
      ]
     },
     "execution_count": 13,
     "metadata": {},
     "output_type": "execute_result"
    }
   ],
   "source": [
    "\" \".isspace() #karakter bir boşluk"
   ]
  },
  {
   "cell_type": "markdown",
   "id": "juvenile-family",
   "metadata": {},
   "source": [
    "### Kaçış karakterleri"
   ]
  },
  {
   "cell_type": "code",
   "execution_count": 14,
   "id": "sacred-snowboard",
   "metadata": {},
   "outputs": [
    {
     "name": "stdout",
     "output_type": "stream",
     "text": [
      "İstanbul'un\n",
      "Bir şair der ki: \"İstanbul'un gülleri!\" diye duyduk.\n"
     ]
    }
   ],
   "source": [
    "#Çift tırnak ve tek tırnağı makul şekilde kullanmak gerekir.\n",
    "#print('İstanbul'un')\n",
    "\n",
    "#\n",
    "print(\"İstanbul'un\")\n",
    "\n",
    "#\n",
    "print(\"Bir şair der ki: \\\"İstanbul'un gülleri!\\\" diye duyduk.\") #\\ ile sağdaki ifadeyi doğrudan yaz demiş"
   ]
  },
  {
   "cell_type": "code",
   "execution_count": 15,
   "id": "figured-battery",
   "metadata": {
    "scrolled": true
   },
   "outputs": [
    {
     "name": "stdout",
     "output_type": "stream",
     "text": [
      "İstanbul'un\n",
      "        taşı toprağı\n",
      "        altındır!!!\n",
      "\n"
     ]
    }
   ],
   "source": [
    "print(\"\"\"İstanbul'un\n",
    "        taşı toprağı\n",
    "        altındır!!!\n",
    "\"\"\")"
   ]
  },
  {
   "cell_type": "code",
   "execution_count": 16,
   "id": "documentary-declaration",
   "metadata": {},
   "outputs": [
    {
     "name": "stdout",
     "output_type": "stream",
     "text": [
      "İstanbul'un \n",
      "\ttaşı toprağı \n",
      "\taltındır!!!\n"
     ]
    }
   ],
   "source": [
    "#\\n alt satıra geçeriz. \\t ile tab koyabiliriz.\n",
    "print(\"İstanbul'un \\n\\ttaşı toprağı \\n\\taltındır!!!\")"
   ]
  },
  {
   "cell_type": "code",
   "execution_count": 17,
   "id": "framed-prototype",
   "metadata": {},
   "outputs": [
    {
     "name": "stdout",
     "output_type": "stream",
     "text": [
      " Ali'nin bir sözü: \"müdür müdür müdür.\" \n"
     ]
    }
   ],
   "source": [
    "print(' Ali\\'nin bir sözü: \"müdür müdür müdür.\" ') #\\ ile sonraki karakterin özel bir anlamı olmadığnı belirttik"
   ]
  },
  {
   "cell_type": "code",
   "execution_count": 18,
   "id": "married-phoenix",
   "metadata": {},
   "outputs": [
    {
     "name": "stdout",
     "output_type": "stream",
     "text": [
      "C:\n",
      "albur\n",
      "C:\\nalbur\n",
      "C:\\nalbur\n",
      "'C:\\nalbur'\n"
     ]
    }
   ],
   "source": [
    "print(\"C:\\nalbur\") #\\n ile alt satıra geçti\n",
    "\n",
    "#bu problemi aşmak için\n",
    "print(\"C:\\\\nalbur\") #\\\\ ile ikinci \\'ın özel bir anlamı yok demiş oluruz\n",
    "\n",
    "#raw string\n",
    "print(r\"C:\\nalbur\") #metinde ne görürse aynen yazar\n",
    "print(repr(\"C:\\nalbur\")) #repr ile raw string"
   ]
  },
  {
   "cell_type": "markdown",
   "id": "arbitrary-kenya",
   "metadata": {},
   "source": [
    "### Unicode | Encode - Decode"
   ]
  },
  {
   "cell_type": "code",
   "execution_count": 19,
   "id": "tribal-train",
   "metadata": {},
   "outputs": [
    {
     "name": "stdout",
     "output_type": "stream",
     "text": [
      "Bu bir kedi 🐈\n"
     ]
    }
   ],
   "source": [
    "#--------unicode------------\n",
    "\"\\U0001F60A\"\n",
    "print(\"Bu bir kedi \\N{cat}\")\n"
   ]
  },
  {
   "cell_type": "code",
   "execution_count": 20,
   "id": "minute-teacher",
   "metadata": {},
   "outputs": [
    {
     "data": {
      "text/plain": [
       "b'kr deer mi?'"
      ]
     },
     "execution_count": 20,
     "metadata": {},
     "output_type": "execute_result"
    }
   ],
   "source": [
    "#str'yi byte'a çevirir.\n",
    "\"kârı değer mi?\".encode() #byte'a çevir\n",
    "\n",
    "\"kârı değer mi?\".encode(\"windows-1254\",\"ignore\") #çevilemeyeni ignore et.\n",
    "\"kârı değer mi?\".encode(\"ASCII\", \"ignore\")"
   ]
  },
  {
   "cell_type": "code",
   "execution_count": 21,
   "id": "neural-guatemala",
   "metadata": {},
   "outputs": [
    {
     "name": "stdout",
     "output_type": "stream",
     "text": [
      "kârı değer mi?\n"
     ]
    }
   ],
   "source": [
    "#decode. byte'ı str'ye çevirir.\n",
    "'''\n",
    "#encode,decode örnekleri\n",
    "windows-1252\n",
    "windows-1254\n",
    "ANSI\n",
    "ISO-8859–1\n",
    "utf-16\n",
    "utf-8\n",
    "'''\n",
    "\n",
    "metin=\"kârı değer mi?\"\n",
    "\n",
    "byteEncoding = metin.encode()\n",
    "#byteEncoding = metin.encode(\"windows-1254\",\"ignore\")\n",
    "\n",
    "print(byteEncoding.decode())\n",
    "#print(byteEncoding.decode(\"windows-1254\"))\n"
   ]
  },
  {
   "cell_type": "markdown",
   "id": "gothic-picking",
   "metadata": {},
   "source": [
    "### str formatlama"
   ]
  },
  {
   "cell_type": "code",
   "execution_count": 22,
   "id": "historical-syndication",
   "metadata": {},
   "outputs": [],
   "source": [
    "ad=\"Ali\"\n",
    "yas=35\n",
    "maas=2750.49"
   ]
  },
  {
   "cell_type": "code",
   "execution_count": 23,
   "id": "ahead-charger",
   "metadata": {},
   "outputs": [
    {
     "name": "stdout",
     "output_type": "stream",
     "text": [
      "Ad:Ali\n",
      "Yaş:35\n"
     ]
    }
   ],
   "source": [
    "#0. tip dönülümü ve + kullanımı\n",
    "fmt = \"Ad:\"+ad+\"\\nYaş:\"+str(yas) #tip dönüşümü\n",
    "print(fmt)"
   ]
  },
  {
   "cell_type": "code",
   "execution_count": 24,
   "id": "invisible-sleep",
   "metadata": {},
   "outputs": [
    {
     "name": "stdout",
     "output_type": "stream",
     "text": [
      "Ad:-Ali-\n",
      "Yaş:-35!"
     ]
    }
   ],
   "source": [
    "#1. yöntem. print ve kaçış karakterleri\n",
    "print(\"Ad:\",ad, \"\\nYaş:\",yas,sep=\"-\",end=\"!\")"
   ]
  },
  {
   "cell_type": "code",
   "execution_count": 25,
   "id": "capital-flower",
   "metadata": {},
   "outputs": [
    {
     "name": "stdout",
     "output_type": "stream",
     "text": [
      "Ad: Ali \n",
      "Yaş: 35 \n",
      "Maaş:2750.5\n"
     ]
    }
   ],
   "source": [
    "#2. % ve tuple kullanarak formatlama\n",
    "'''\n",
    "    yer tutucular:\n",
    "        %s string\n",
    "        %d int\n",
    "        %.2f iki basamaklı ondalıklı sayı gelecek        \n",
    "'''\n",
    "\n",
    "frm = \"Ad: %s \\nYaş: %d \\nMaaş:%.1f\" %(ad,yas,maas)\n",
    "\n",
    "print(frm)"
   ]
  },
  {
   "cell_type": "code",
   "execution_count": 26,
   "id": "palestinian-detective",
   "metadata": {},
   "outputs": [
    {
     "name": "stdout",
     "output_type": "stream",
     "text": [
      "Ad: Ali \n",
      "Yaş: 35 \n",
      "Maaş: ~~~~~~~~~~~2,750.5~~~~~~~~~~~~\n"
     ]
    }
   ],
   "source": [
    "#3. str.format()\n",
    "'''\n",
    "    {} buraya format fonksiyonudaki değer gelecek. içerisinde ek bilgi verilebilir.\n",
    "    {index_alias:özelformat}\n",
    "    \n",
    "    : ekstra format vereceğiz.\n",
    "    >30 otuz boşluk içinde sağa yanaşık yaz.  ^ ortala\n",
    "    , binlik ayraç olsun ve .2f iki basamaklı ondalıklı kısmı olsun (123,456.79)\n",
    "    .3s ile string 3 karakter görünecek şekilde kırpabiliriz.\n",
    "\n",
    "    basic conversion ile raw string\n",
    "    !r\n",
    "    \n",
    "format code\n",
    "    s — strings\n",
    "    d — decimal integers (base-10)\n",
    "    f — float\n",
    "    c — character\n",
    "    b — binary\n",
    "    o — octal\n",
    "    x — hexadecimal with lowercase letters after 9\n",
    "    e — exponent notation\n",
    "'''\n",
    "fmt = \"Ad: {} \\nYaş: {} \\nMaaş: {}\".format(ad,yas,maas)\n",
    "fmt = \"Ad: {} \\nYaş: {} \\nMaaş: {:f}\".format(ad,yas,maas)\n",
    "fmt = \"Ad: {} \\nYaş: {} \\nMaaş: {:.1f}\".format(ad,yas,maas) #.1f ile virgülden sonra 1 basamak olacak\n",
    "fmt = \"Ad: {:.1s}** \\nYaş: {} \\nMaaş: {:.1f}\".format(ad,yas,maas) #.1s ile metinde 1 karakter gelir.\n",
    "#fmt = \"Ad: {:.1s}{} \\nYaş: {} \\nMaaş: {:.1f}\".format(ad,(\"*\"*(len(ad)-1)),yas,maas)\n",
    "\n",
    "fmt = \"Ad: {:.1s}** \\nYaş: {} \\nMaaş: {:,.1f}\".format(ad,yas,maas) #, ile binlik ayraç belirttik.\n",
    "\n",
    "fmt = \"Ad: {:.1s}** \\nYaş: {} \\nMaaş: {:>30,.1f}\".format(ad,yas,maas) #>30 karakter içerisinde yaz sağa al\n",
    "fmt = \"Ad: {:.1s}** \\nYaş: {} \\nMaaş: {:~^30,.1f}\".format(ad,yas,maas) #~^30  30 karakter içerisinde ortala boışlukara ~ yaz\n",
    "\n",
    "#------------------------\n",
    "#yer tutucular {} içerisinde sıra numarası veya alias kullanılabilir.\n",
    "fmt = \"Ad: {1} \\nYaş: {0} \\nMaaş: {2}\".format(yas,ad,maas) #sıra numarasına uygun yazmalıyız\n",
    "fmt = \"Ad: {v_ad} \\nYaş: {v_yas} \\nMaaş: {v_maas}\".format(v_ad=ad,v_yas=yas,v_maas=maas)\n",
    "\n",
    "#: sağında format solunda alias veya sıra numarası kullanılrı\n",
    "fmt = \"Ad: {v_ad} \\nYaş: {v_yas} \\nMaaş: {v_maas:~^30,.1f}\".format(v_ad=ad,v_yas=yas,v_maas=maas)\n",
    "\n",
    "print(fmt)"
   ]
  },
  {
   "cell_type": "code",
   "execution_count": 27,
   "id": "numeric-china",
   "metadata": {},
   "outputs": [
    {
     "name": "stdout",
     "output_type": "stream",
     "text": [
      "Ad: Ali \n",
      "Yaş: 35 \n",
      "Maaş: ~~~~~~~~~~~2,750.5~~~~~~~~~~~~\n"
     ]
    }
   ],
   "source": [
    "#4.metin başına f harfini yazarak {} içerisinde orjinal değişkenleri belirtebiliriz.\n",
    "fmt = f\"Ad: {ad} \\nYaş: {yas} \\nMaaş: {maas}\"\n",
    "\n",
    "fmt = f\"Ad: {ad} \\nYaş: {yas} \\nMaaş: {maas:~^30,.1f}\" #yukarıdaki format özelliği aynen geçerli.\n",
    "print(fmt)"
   ]
  },
  {
   "cell_type": "code",
   "execution_count": 28,
   "id": "great-momentum",
   "metadata": {},
   "outputs": [
    {
     "name": "stdout",
     "output_type": "stream",
     "text": [
      "noktalarımız : ( 4,-5 )\n"
     ]
    }
   ],
   "source": [
    "#5.format_map\n",
    "noktalar = {\"x\":4,\"y\":-5} #dict tanımladık. Key:Value\n",
    "fmt = \"noktalarımız : ( {x},{y} )\".format_map(noktalar)\n",
    "\n",
    "print(fmt)"
   ]
  },
  {
   "cell_type": "code",
   "execution_count": 29,
   "id": "secondary-anthony",
   "metadata": {},
   "outputs": [],
   "source": [
    "#soru:\n",
    "'''\n",
    "    - metin dışarıdan alınabilsin.\n",
    "    - metni belirtilen karakter içerisine ortalayalım. Mesela 30 karakter.\n",
    "    - kalan boşluklara da - basalım.\n",
    "    \n",
    "------------------------------\n",
    "-------merhaba dünyalı--------\n",
    "------------------------------ \n",
    "'''\n",
    "metin = \"Merhaba Dünyalı\" #input(\"Bir metin giriniz: \")\n",
    "cizgiSayisi = 30"
   ]
  },
  {
   "cell_type": "code",
   "execution_count": 30,
   "id": "simple-freight",
   "metadata": {},
   "outputs": [
    {
     "name": "stdout",
     "output_type": "stream",
     "text": [
      "------------------------------\n",
      "-------Merhaba Dünyalı--------\n",
      "------------------------------\n"
     ]
    }
   ],
   "source": [
    "#1.çözüm\n",
    "print(\"-\"*cizgiSayisi)\n",
    "print(metin.center(cizgiSayisi,\"-\"))\n",
    "print(\"-\"*cizgiSayisi)"
   ]
  },
  {
   "cell_type": "code",
   "execution_count": 31,
   "id": "configured-bundle",
   "metadata": {},
   "outputs": [
    {
     "name": "stdout",
     "output_type": "stream",
     "text": [
      "-------Merhaba Dünyalı--------\n"
     ]
    }
   ],
   "source": [
    "#2.çözüm\n",
    "fmt = (\"{:-^\"+str(cizgiSayisi)+\"}\").format(metin) #{:-^30}.format(metin)\n",
    "fmt = f\"{metin:-^{cizgiSayisi}}\"\n",
    "\n",
    "\n",
    "#\n",
    "#fmt = \"{{:-^{}}}\".format(cizgiSayisi) #{} için {{}} kullanmak gerek. {:-^30}\n",
    "#fmt = fmt.format(metin)\n",
    "fmt = \"{{:-^{}}}\".format(cizgiSayisi).format(metin)\n",
    "\n",
    "print(fmt)"
   ]
  },
  {
   "cell_type": "code",
   "execution_count": 32,
   "id": "iraqi-highlight",
   "metadata": {},
   "outputs": [
    {
     "name": "stdout",
     "output_type": "stream",
     "text": [
      "Genişliğini giriniz: 50\n",
      "==================================================\n",
      "Item                                         Price\n",
      "--------------------------------------------------\n",
      "Elma                                            10\n",
      "Armut                                         12.5\n",
      "Karpuz                                       112.8\n",
      "Havuc (16 oz.)                                 2.8\n",
      "Prasa (4 lbs.)                                22.3\n",
      "==================================================\n"
     ]
    }
   ],
   "source": [
    "#soru: Yazar kasa fişi oluşturalım\n",
    "'''\n",
    "==============================\n",
    "Item                     Price\n",
    "------------------------------\n",
    "Elma                      0.40\n",
    "Karpus                    0.50\n",
    "Üzüm                      1.92\n",
    "Havuc (16 oz.)            8.00\n",
    "Prasa (4 lbs.)           12.00\n",
    "==============================\n",
    "'''\n",
    "\n",
    "width = int(input(\"Genişliğini giriniz: \"))\n",
    "price_width = 10\n",
    "item_widht = width - price_width\n",
    "\n",
    "#başlık formatını oluşturalım\n",
    "#{:<40}{:>10}\n",
    "header_fmt = \"{{:<{}}}{{:>{}}}\".format(item_widht,price_width)\n",
    "\n",
    "print(\"=\"*width)\n",
    "print(header_fmt.format(\"Item\",\"Price\"))\n",
    "print(\"-\"*width)\n",
    "\n",
    "\n",
    "#gövde formatını oluştralım.\n",
    "fmt = \"{{:<{}}}{{:>{}}}\".format(item_widht,price_width)\n",
    "\n",
    "print(fmt.format(\"Elma\",10))\n",
    "print(fmt.format(\"Armut\",12.5))\n",
    "print(fmt.format(\"Karpuz\",112.8))\n",
    "\n",
    "print(fmt.format(\"Havuc (16 oz.)\",2.8))\n",
    "print(fmt.format(\"Prasa (4 lbs.)\",22.3))\n",
    "\n",
    "print(\"=\"*width)"
   ]
  }
 ],
 "metadata": {
  "kernelspec": {
   "display_name": "Python 3",
   "language": "python",
   "name": "python3"
  },
  "language_info": {
   "codemirror_mode": {
    "name": "ipython",
    "version": 3
   },
   "file_extension": ".py",
   "mimetype": "text/x-python",
   "name": "python",
   "nbconvert_exporter": "python",
   "pygments_lexer": "ipython3",
   "version": "3.8.8"
  },
  "varInspector": {
   "cols": {
    "lenName": 16,
    "lenType": 16,
    "lenVar": 40
   },
   "kernels_config": {
    "python": {
     "delete_cmd_postfix": "",
     "delete_cmd_prefix": "del ",
     "library": "var_list.py",
     "varRefreshCmd": "print(var_dic_list())"
    },
    "r": {
     "delete_cmd_postfix": ") ",
     "delete_cmd_prefix": "rm(",
     "library": "var_list.r",
     "varRefreshCmd": "cat(var_dic_list()) "
    }
   },
   "types_to_exclude": [
    "module",
    "function",
    "builtin_function_or_method",
    "instance",
    "_Feature"
   ],
   "window_display": false
  }
 },
 "nbformat": 4,
 "nbformat_minor": 5
}
