{
 "cells": [
  {
   "cell_type": "markdown",
   "id": "measured-politics",
   "metadata": {},
   "source": [
    "## Str ve Formatlama\n",
    "\n",
    "* \" veya ' ile tek satırlık metinler için\n",
    "* \"\"\" veya ''' ile çok satırlık metinler için"
   ]
  },
  {
   "cell_type": "code",
   "execution_count": 19,
   "id": "regulation-american",
   "metadata": {},
   "outputs": [
    {
     "data": {
      "text/plain": [
       "[1, 2, 3, 1, 2, 3, 1, 2, 3, 1, 2, 3, 1, 2, 3]"
      ]
     },
     "execution_count": 19,
     "metadata": {},
     "output_type": "execute_result"
    }
   ],
   "source": [
    "#Containerlarda * operatoru eleman sayısın tekrar ettirir.\n",
    "#\n",
    "\"kise\" * 5\n",
    "\n",
    "#\n",
    "[1,2,3] * 5"
   ]
  },
  {
   "cell_type": "markdown",
   "id": "armed-georgia",
   "metadata": {},
   "source": [
    "### Bazı str fonksiyonları"
   ]
  },
  {
   "cell_type": "code",
   "execution_count": 6,
   "id": "behind-chancellor",
   "metadata": {},
   "outputs": [],
   "source": [
    "#str attributelerine ulaşalım\n",
    "#dir(str)\n",
    "#help(str)\n",
    "#str.__doc__"
   ]
  },
  {
   "cell_type": "code",
   "execution_count": 26,
   "id": "dimensional-spain",
   "metadata": {},
   "outputs": [],
   "source": [
    "metin = \"MeRhABA DünYALI  \" #sonunda boşluk var."
   ]
  },
  {
   "cell_type": "code",
   "execution_count": 15,
   "id": "scientific-chair",
   "metadata": {},
   "outputs": [
    {
     "data": {
      "text/plain": [
       "'Merhaba Dünyali'"
      ]
     },
     "execution_count": 15,
     "metadata": {},
     "output_type": "execute_result"
    }
   ],
   "source": [
    "#str fonksiyonları şu şekilde kullanılabilir\n",
    "\n",
    "#1.\n",
    "str.title(metin)\n",
    "\n",
    "#2.\n",
    "metin.title()\n",
    "\n",
    "#3.\n",
    "metin.__len__() #magic fonctionlar. bazı durumlarda kullanılması avantajlıdır.\n",
    "#len(metin) #containerların eleman sayısını getirir. \n",
    "\n",
    "#4.\n",
    "metin.strip(\" \").title()\n",
    "str.title(metin.strip(\" \"))"
   ]
  },
  {
   "cell_type": "code",
   "execution_count": 34,
   "id": "cathedral-response",
   "metadata": {},
   "outputs": [
    {
     "data": {
      "text/plain": [
       "'MERHABA DünYALI  '"
      ]
     },
     "execution_count": 34,
     "metadata": {},
     "output_type": "execute_result"
    }
   ],
   "source": [
    "# Kullanışlı fonksiyonlar\n",
    "\n",
    "#\n",
    "len(metin) #karakter sayısını verir.\n",
    "metin.__len__()\n",
    "\n",
    "#\n",
    "metin.title()\n",
    "metin.capitalize() #ilk kelimin ilk harfi büyük\n",
    "metin. upper()\n",
    "metin.lower()\n",
    "\n",
    "#\n",
    "metin.strip(\" \") #belirtilen karakterleri baştan ve sondan siler\n",
    "#metin.rstrip(\" \") ,metin.lstrip()\n",
    "\n",
    "#\n",
    "metin.count(\"YA\") # O ifadeden kaçtane var.\n",
    "\n",
    "#\n",
    "metin.center(50, \"-\") #50 karakter içerisinde ortaladı. boşluklara ikinci parametredekini yazdı.\n",
    "\n",
    "#\n",
    "metin.find(\"A\") #kaçıncı indexte olduğunu. ilkini getirir.\n",
    "\n",
    "#\n",
    "metin.replace(\"eRh\",\"ERH\")#ifadeyi komple değiştirir."
   ]
  },
  {
   "cell_type": "code",
   "execution_count": 36,
   "id": "optical-villa",
   "metadata": {},
   "outputs": [
    {
     "data": {
      "text/plain": [
       "1"
      ]
     },
     "execution_count": 36,
     "metadata": {},
     "output_type": "execute_result"
    }
   ],
   "source": [
    "#soru: metin kaç kelimeden oluşur.\n",
    "\n",
    "metin.strip(\" \").count(\" \") #arada bir boşluk var. 2 kelime mevcut."
   ]
  },
  {
   "cell_type": "code",
   "execution_count": 39,
   "id": "unlikely-ivory",
   "metadata": {},
   "outputs": [
    {
     "data": {
      "text/plain": [
       "'MERhABA DÜnYALı  '"
      ]
     },
     "execution_count": 39,
     "metadata": {},
     "output_type": "execute_result"
    }
   ],
   "source": [
    "#translate\n",
    "#çok fazla karakteri değiştirmek gerekirse kullanırız.\n",
    "tbl=str.maketrans(\"eüI\",\"EÜı\") #{101: 69, 252: 220, 73: 305} ASCII kodları üzerinde\n",
    "metin.translate(tbl)"
   ]
  },
  {
   "cell_type": "code",
   "execution_count": 40,
   "id": "fitted-transition",
   "metadata": {},
   "outputs": [
    {
     "data": {
      "text/plain": [
       "['MeRhABA', 'DünYALI', '', '']"
      ]
     },
     "execution_count": 40,
     "metadata": {},
     "output_type": "execute_result"
    }
   ],
   "source": [
    "metin.split(\" \") #split belirtilen karaktere göre ayırır ve liste döndürür"
   ]
  },
  {
   "cell_type": "code",
   "execution_count": 42,
   "id": "atomic-tulsa",
   "metadata": {},
   "outputs": [
    {
     "data": {
      "text/plain": [
       "'m-e-r-h-a-b-a'"
      ]
     },
     "execution_count": 42,
     "metadata": {},
     "output_type": "execute_result"
    }
   ],
   "source": [
    "#join belirtilen ifade ile container elemanlarını birleştirir. geriye str döndürür.\n",
    "\";\".join([\"Abdullah\",\"Ali\",\"Veli\"])\n",
    "\n",
    "#str container\n",
    "\"-\".join(\"merhaba\")"
   ]
  },
  {
   "cell_type": "markdown",
   "id": "structural-barrel",
   "metadata": {},
   "source": [
    "### is... fonksiyonları"
   ]
  },
  {
   "cell_type": "code",
   "execution_count": 45,
   "id": "drawn-living",
   "metadata": {},
   "outputs": [
    {
     "data": {
      "text/plain": [
       "False"
      ]
     },
     "execution_count": 45,
     "metadata": {},
     "output_type": "execute_result"
    }
   ],
   "source": [
    "#pozitif bir tam sayı mıdır?\n",
    "\"2021\".isdigit() #True\n",
    "\n",
    "\"-2021\".isdigit() #False\n",
    "\"2.021\".isdigit() #False"
   ]
  },
  {
   "cell_type": "code",
   "execution_count": 52,
   "id": "surgical-fluid",
   "metadata": {},
   "outputs": [
    {
     "data": {
      "text/plain": [
       "False"
      ]
     },
     "execution_count": 52,
     "metadata": {},
     "output_type": "execute_result"
    }
   ],
   "source": [
    "#karakter bazlı kontrol yapar.\n",
    "\"2021\".isnumeric() #tüm karakterler numaric mi?\n",
    "\n",
    "#karakterler alfabedeki harflerden mi oluşuyor?\n",
    "\"yirmi\".isalpha()  #True\n",
    "\"yirmi1\".isalpha() #False\n",
    "\n",
    "#sayı veya alfabedeki karekterlerden mi oluşuyor.\n",
    "\"one2\".isalnum()  #True\n",
    "\"pil@v\".isalnum() #@ alfabede yok. False\n"
   ]
  },
  {
   "cell_type": "code",
   "execution_count": 54,
   "id": "regulation-bangkok",
   "metadata": {},
   "outputs": [
    {
     "data": {
      "text/plain": [
       "True"
      ]
     },
     "execution_count": 54,
     "metadata": {},
     "output_type": "execute_result"
    }
   ],
   "source": [
    "\"\\n\".isspace() #karakterin görünmeyen bir karakter olup olmaığını kontrol (\" \", \\n, \\r)"
   ]
  },
  {
   "cell_type": "markdown",
   "id": "unusual-content",
   "metadata": {},
   "source": [
    "### Kaçış Karakterleri"
   ]
  },
  {
   "cell_type": "code",
   "execution_count": 56,
   "id": "historic-socket",
   "metadata": {},
   "outputs": [
    {
     "name": "stdout",
     "output_type": "stream",
     "text": [
      "İstanbul'un\n"
     ]
    }
   ],
   "source": [
    "#Çift tırnak ve tek tırnağı makul şekilde kullanmak gerekir.\n",
    "#print('İstanbul'un')\n",
    "\n",
    "#\n",
    "print(\"İstanbul'un\")\n",
    "\n",
    "#\n",
    "print(\"Bir şair der ki: \\\"İstanbul'un gülleri!\\\" diye duyduk.\") #\\ ile sağdaki ifadeyi doğrudan yaz demiş oluyoruz."
   ]
  },
  {
   "cell_type": "code",
   "execution_count": 57,
   "id": "biological-anime",
   "metadata": {},
   "outputs": [
    {
     "name": "stdout",
     "output_type": "stream",
     "text": [
      "İstanbul'un\n",
      "        taşı toprağı\n",
      "        altındır.\n",
      "\n"
     ]
    }
   ],
   "source": [
    "print(\"\"\"İstanbul'un\n",
    "        taşı toprağı\n",
    "        altındır.\n",
    "\"\"\")"
   ]
  },
  {
   "cell_type": "code",
   "execution_count": 61,
   "id": "inclusive-beginning",
   "metadata": {},
   "outputs": [
    {
     "name": "stdout",
     "output_type": "stream",
     "text": [
      "İstanbul'un \n",
      "\ttaşı toprağı\n",
      "\taltındır.\n"
     ]
    }
   ],
   "source": [
    "print(\"İstanbul'un \\n\\ttaşı toprağı\\n\\taltındır.\")\n",
    "#\\n ile alt satıra geçtik, \\t tab koymuş olduk."
   ]
  },
  {
   "cell_type": "code",
   "execution_count": 65,
   "id": "subtle-safety",
   "metadata": {},
   "outputs": [
    {
     "name": "stdout",
     "output_type": "stream",
     "text": [
      "C:\n",
      "albur\n",
      "C:\\nalbur\n",
      "C:\\nalbur\n",
      "'C:\\nalbur'\n"
     ]
    }
   ],
   "source": [
    "#Dosya yolları ile ilgili bir problem\n",
    "print(\"C:\\nalbur\") #\\n olduğu için dosya yolu boluzur.\n",
    "\n",
    "#\n",
    "print(\"C:\\\\nalbur\") #\\\\ ile \\ olduğu gibi yaz dedik.\n",
    "\n",
    "#raw string\n",
    "print(r\"C:\\nalbur\") #metnin başında r var. raw string yaptı\n",
    "print(repr(\"C:\\nalbur\")) #repr ile raw string "
   ]
  },
  {
   "cell_type": "markdown",
   "id": "great-attempt",
   "metadata": {},
   "source": [
    "### Unicode | Encode- Decode"
   ]
  },
  {
   "cell_type": "code",
   "execution_count": 72,
   "id": "bright-support",
   "metadata": {},
   "outputs": [
    {
     "name": "stdout",
     "output_type": "stream",
     "text": [
      "Bu bir kedidir 🐈\n"
     ]
    }
   ],
   "source": [
    "#python unicode karakterleri destekler\n",
    "\"\\u221E\"\n",
    "\"\\U0001F60A\"\n",
    "\n",
    "print(\"Bu bir kedidir \\N{cat}\")"
   ]
  },
  {
   "cell_type": "code",
   "execution_count": 77,
   "id": "neither-retail",
   "metadata": {},
   "outputs": [
    {
     "data": {
      "text/plain": [
       "b'Bu i\\xc5\\x9fin k\\xc3\\xa2r\\xc4\\xb1 i\\xc3\\xa7in de\\xc4\\x9fer mi?'"
      ]
     },
     "execution_count": 77,
     "metadata": {},
     "output_type": "execute_result"
    }
   ],
   "source": [
    "#Encode: str'yi byte dizisine çevirmenizi sağlar. Hangi karekter setine göre çevireceğimizi belirtiriz\n",
    "\"Bu işin kârı için değer mi?\".encode() #byte\n",
    "\n",
    "\"Bu işin kârı için değer mi?\".encode(\"windows-1254\",\"ignore\") #byte\n",
    "\"Bu işin kârı için değer mi?\".encode(\"utf-8\",\"ignore\") #byte"
   ]
  },
  {
   "cell_type": "code",
   "execution_count": 81,
   "id": "informative-israel",
   "metadata": {},
   "outputs": [
    {
     "name": "stdout",
     "output_type": "stream",
     "text": [
      "b'Bu i\\xfein k\\xe2r\\xfd i\\xe7in de\\xf0er mi?'\n",
      "Bu işin kârı için değer mi?\n"
     ]
    }
   ],
   "source": [
    "metin = \"Bu işin kârı için değer mi?\"\n",
    "\n",
    "byte_metin = metin.encode(\"windows-1254\") #utf-8\n",
    "print(byte_metin)\n",
    "\n",
    "print(byte_metin.decode(\"windows-1254\")) #decode ile byte dizinisi str'ye çevirdik."
   ]
  },
  {
   "cell_type": "markdown",
   "id": "accomplished-peoples",
   "metadata": {},
   "source": [
    "### Str Formatlama"
   ]
  },
  {
   "cell_type": "code",
   "execution_count": 1,
   "id": "signal-monster",
   "metadata": {},
   "outputs": [],
   "source": [
    "ad = \"Ali\"\n",
    "yas = 44\n",
    "maas= 4236.49"
   ]
  },
  {
   "cell_type": "code",
   "execution_count": 5,
   "id": "egyptian-amsterdam",
   "metadata": {},
   "outputs": [
    {
     "name": "stdout",
     "output_type": "stream",
     "text": [
      "Ad:Ali\n",
      "Yas:44\n",
      "Maaş:4236.49\n"
     ]
    }
   ],
   "source": [
    "#0. tip dönüşümü\n",
    "fmt = \"Ad:\"+ad+\"\\nYas:\"+str(yas)+\"\\nMaaş:\"+str(maas)\n",
    "\n",
    "print(fmt)"
   ]
  },
  {
   "cell_type": "code",
   "execution_count": 8,
   "id": "classical-polymer",
   "metadata": {},
   "outputs": [
    {
     "name": "stdout",
     "output_type": "stream",
     "text": [
      "Ad: Ali \n",
      "Yaş: 44 \n",
      "Maaş 4236.49\n"
     ]
    }
   ],
   "source": [
    "#1. yöntem\n",
    "print(\"Ad:\",ad,\"\\nYaş:\",yas,\"\\nMaaş\",maas)"
   ]
  },
  {
   "cell_type": "code",
   "execution_count": 11,
   "id": "greenhouse-arcade",
   "metadata": {},
   "outputs": [
    {
     "name": "stdout",
     "output_type": "stream",
     "text": [
      "Ad:Ali \n",
      "Yaş:44 \n",
      "Maaş:4236.5\n"
     ]
    }
   ],
   "source": [
    "#2. yöntem % ve tuple kullanımı\n",
    "'''\n",
    "    yer tutucular:\n",
    "        %s str\n",
    "        %d int\n",
    "        %.2f iki basamaklı float için\n",
    "'''\n",
    "\n",
    "fmt = \"Ad:%s \\nYaş:%d \\nMaaş:%.1f\" %(ad,yas,maas)\n",
    "\n",
    "print(fmt)"
   ]
  },
  {
   "cell_type": "code",
   "execution_count": 31,
   "id": "female-renewal",
   "metadata": {},
   "outputs": [
    {
     "name": "stdout",
     "output_type": "stream",
     "text": [
      "Ad: Ali \n",
      "Yaş: 44 \n",
      "Maaş: 4236.49\n"
     ]
    }
   ],
   "source": [
    "#3.str.format()\n",
    "'''\n",
    "    {} buraya format fonksiyonudaki değer gelecek. içerisinde ek bilgi verilebilir.\n",
    "    {index_alias:özelformat}\n",
    "    \n",
    "    : ekstra format vereceğiz.\n",
    "        >30 otuz boşluk içinde sağa yanaşık yaz.  ^ ortala\n",
    "        , binlik ayraç olsun ve .2f iki basamaklı ondalıklı kısmı olsun (123,456.79)\n",
    "        .3s ile string 3 karakter görünecek şekilde kırpabiliriz.\n",
    "\n",
    "    basic conversion ile raw string\n",
    "    !r\n",
    "    \n",
    "format code\n",
    "    s — strings\n",
    "    d — decimal integers (base-10)\n",
    "    f — float\n",
    "    c — character\n",
    "    b — binary\n",
    "    o — octal\n",
    "    x — hexadecimal with lowercase letters after 9\n",
    "    e — exponent notation\n",
    "'''\n",
    "fmt = \"Ad: {} \\nYaş: {} \\nMaaş: {}\".format(ad,yas,maas)\n",
    "\n",
    "fmt = \"Ad: {} \\nYaş: {} \\nMaaş: {:f}\".format(ad,yas,maas)\n",
    "fmt = \"Ad: {} \\nYaş: {} \\nMaaş: {:.1f}\".format(ad,yas,maas) #.1f ile virgülden sonra 1 basamak\n",
    "fmt = \"Ad: {:.1s}*** \\nYaş: {} \\nMaaş: {:.1f}\".format(ad,yas,maas) #metinsel alanlar da kırpılabilir.\n",
    "#fmt = \"Ad: {:.1s}{} \\nYaş: {} \\nMaaş: {:.1f}\".format(ad, (\".\" * (len(ad)-1)) ,yas,maas)\n",
    "\n",
    "fmt = \"Ad: {:.1s}*** \\nYaş: {} \\nMaaş: {:,.1f}\".format(ad,yas,maas) #, ile binlik ayraç oluştu\n",
    "\n",
    "fmt = \"Ad: {:.1s}*** \\nYaş: {} \\nMaaş: {:^30,.1f}\".format(ad,yas,maas) #^30 ile 30 karakter içerisine ortaladık.\n",
    "fmt = \"Ad: {:.1s}*** \\nYaş: {} \\nMaaş: {:~^30,.1f}\".format(ad,yas,maas) #kalan boşlukları ~ ile dolduralım.\n",
    "\n",
    "#-------------------------------------------------------------\n",
    "fmt = \"Ad: {1} \\nYaş: {0} \\nMaaş: {2}\".format(yas,ad,maas) #{index} ile sıra numarası verebiliriz.\n",
    "fmt = \"Ad: {v_ad} \\nYaş: {v_yas} \\nMaaş: {v_maas}\".format(v_ad=ad,v_yas=yas,v_maas=maas)  # {alias} verebiliriz\n",
    "\n",
    "print(fmt)"
   ]
  },
  {
   "cell_type": "code",
   "execution_count": 34,
   "id": "ceramic-treasure",
   "metadata": {},
   "outputs": [
    {
     "name": "stdout",
     "output_type": "stream",
     "text": [
      "Ad: Ali \n",
      "Yaş: 44 \n",
      "Maaş: ~~~~~~~~~~~~~~~~~~~4,236.49000\n"
     ]
    }
   ],
   "source": [
    "#4.metnin başına f harfi ekleyerek ve {} içerisine orjinal değişkeni yazarak çalışma\n",
    "fmt = f\"Ad: {ad} \\nYaş: {yas} \\nMaaş: {maas}\"\n",
    "\n",
    "fmt = f\"Ad: {ad} \\nYaş: {yas} \\nMaaş: {maas:~>30,.5f}\" #format kullanımı aynen geçerli.\n",
    "\n",
    "print(fmt)"
   ]
  },
  {
   "cell_type": "code",
   "execution_count": 36,
   "id": "covered-tuning",
   "metadata": {},
   "outputs": [
    {
     "name": "stdout",
     "output_type": "stream",
     "text": [
      "noktlarımız: (x,y) = (4,-5)\n"
     ]
    }
   ],
   "source": [
    "#5.format_map\n",
    "\n",
    "nokta = {\"x\":4 , \"y\":-5} #dict tanımlarız. key:value\n",
    "fmt = \"noktlarımız: (x,y) = ({x},{y})\".format_map(nokta) #keyleri görüp valularını yerine yazar.\n",
    "\n",
    "print(fmt)"
   ]
  },
  {
   "cell_type": "code",
   "execution_count": 40,
   "id": "ancient-bandwidth",
   "metadata": {},
   "outputs": [],
   "source": [
    "#soru:\n",
    "'''\n",
    "    - metin dışarıdan alınabilsin.\n",
    "    - metni belirtilen karakter içerisine ortalayalım. Mesela 30 karakter.\n",
    "    - kalan boşluklara da - basalım.\n",
    "    \n",
    "------------------------------\n",
    "-------merhaba dünyalı--------\n",
    "------------------------------ \n",
    "'''\n",
    "metin = \"Merhaba Dünyalı\" #input(\"Bir metin giriniz: \")\n",
    "cizgiSayisi = 30"
   ]
  },
  {
   "cell_type": "code",
   "execution_count": 45,
   "id": "fossil-george",
   "metadata": {},
   "outputs": [
    {
     "name": "stdout",
     "output_type": "stream",
     "text": [
      "------------------------------\n",
      "-------Merhaba Dünyalı--------\n",
      "------------------------------\n"
     ]
    }
   ],
   "source": [
    "#1.çözüm\n",
    "print(\"-\"*cizgiSayisi)\n",
    "print(metin.center(cizgiSayisi,\"-\"))\n",
    "print(\"-\"*cizgiSayisi)"
   ]
  },
  {
   "cell_type": "code",
   "execution_count": 75,
   "id": "sonic-treatment",
   "metadata": {},
   "outputs": [
    {
     "name": "stdout",
     "output_type": "stream",
     "text": [
      "-------Merhaba Dünyalı--------\n"
     ]
    }
   ],
   "source": [
    "#2.çözüm\n",
    "fmt = (\"{:-^\"+str(cizgiSayisi)+\"}\").format(metin) #{:-^30}.format(metin)\n",
    "fmt = f\"{metin:-^{cizgiSayisi}}\"\n",
    "\n",
    "\n",
    "#\n",
    "#fmt = \"{{:-^{}}}\".format(cizgiSayisi) #{} için {{}} kullanmak gerek. {:-^30}\n",
    "#fmt = fmt.format(metin)\n",
    "fmt = \"{{:-^{}}}\".format(cizgiSayisi).format(metin)\n",
    "\n",
    "print(fmt)"
   ]
  },
  {
   "cell_type": "code",
   "execution_count": null,
   "id": "beautiful-professional",
   "metadata": {},
   "outputs": [],
   "source": [
    "#soru: Yazar kasa fişi oluşturalım\n",
    "'''\n",
    "==============================\n",
    "Item                     Price\n",
    "------------------------------\n",
    "Elma                      0.40\n",
    "Karpus                    0.50\n",
    "Üzüm                      1.92\n",
    "Havuc (16 oz.)            8.00\n",
    "Prasa (4 lbs.)           12.00\n",
    "==============================\n",
    "'''"
   ]
  }
 ],
 "metadata": {
  "kernelspec": {
   "display_name": "Python 3",
   "language": "python",
   "name": "python3"
  },
  "language_info": {
   "codemirror_mode": {
    "name": "ipython",
    "version": 3
   },
   "file_extension": ".py",
   "mimetype": "text/x-python",
   "name": "python",
   "nbconvert_exporter": "python",
   "pygments_lexer": "ipython3",
   "version": "3.8.8"
  },
  "varInspector": {
   "cols": {
    "lenName": 16,
    "lenType": 16,
    "lenVar": 40
   },
   "kernels_config": {
    "python": {
     "delete_cmd_postfix": "",
     "delete_cmd_prefix": "del ",
     "library": "var_list.py",
     "varRefreshCmd": "print(var_dic_list())"
    },
    "r": {
     "delete_cmd_postfix": ") ",
     "delete_cmd_prefix": "rm(",
     "library": "var_list.r",
     "varRefreshCmd": "cat(var_dic_list()) "
    }
   },
   "types_to_exclude": [
    "module",
    "function",
    "builtin_function_or_method",
    "instance",
    "_Feature"
   ],
   "window_display": false
  }
 },
 "nbformat": 4,
 "nbformat_minor": 5
}
