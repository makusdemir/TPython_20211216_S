{
 "cells": [
  {
   "cell_type": "markdown",
   "id": "christian-furniture",
   "metadata": {},
   "source": [
    "## Zamansal Veri Tipleri\n",
    "\n",
    "**datetime** paketi içerisinde:\n",
    "\n",
    "* **date:** sadece tarih\n",
    "* **datetime:** tarih ve zaman\n",
    "* **time:** sadece zaman\n",
    "* **timedelta:** iki tarih arasındaki fark"
   ]
  },
  {
   "cell_type": "code",
   "execution_count": 3,
   "id": "forty-running",
   "metadata": {},
   "outputs": [],
   "source": [
    "#https://docs.python.org/3/library/datetime.html\n",
    "from datetime import date, datetime, time, timedelta"
   ]
  },
  {
   "cell_type": "markdown",
   "id": "facial-entertainment",
   "metadata": {},
   "source": [
    "### date"
   ]
  },
  {
   "cell_type": "code",
   "execution_count": 11,
   "id": "sealed-induction",
   "metadata": {},
   "outputs": [
    {
     "name": "stdout",
     "output_type": "stream",
     "text": [
      "2021-12-18\n",
      "<class 'datetime.date'>\n",
      "18\n",
      "12\n",
      "2021\n",
      "5\n"
     ]
    }
   ],
   "source": [
    "#dir(date)\n",
    "\n",
    "print(date.today()) #bugün\n",
    "print(type(date.today())) #<class 'datetime.date'>\n",
    "\n",
    "print(date.today().day) #ayın kaçıncı günü\n",
    "print(date.today().month) \n",
    "print(date.today().year)\n",
    "\n",
    "print(date.today().weekday()) #haftanın kaçıncı günü"
   ]
  },
  {
   "cell_type": "code",
   "execution_count": 16,
   "id": "mexican-growth",
   "metadata": {},
   "outputs": [
    {
     "name": "stdout",
     "output_type": "stream",
     "text": [
      "2021-12-18\n"
     ]
    }
   ],
   "source": [
    "# tarih oluşturma\n",
    "\n",
    "#1. yöntem\n",
    "tarih = date(year=2021, month=12, day=15)\n",
    "\n",
    "#tarihin bir bölümünü güncellemek isterek\n",
    "tarih = tarih.replace(day=18) #orjinalini etkilemediği için atama yaparız.\n",
    "\n",
    "print(tarih)"
   ]
  },
  {
   "cell_type": "code",
   "execution_count": 40,
   "id": "generic-tablet",
   "metadata": {},
   "outputs": [
    {
     "name": "stdout",
     "output_type": "stream",
     "text": [
      "<class 'datetime.date'>\n",
      "18\n"
     ]
    }
   ],
   "source": [
    "#2.yöntem\n",
    "tarih = date.fromisoformat(\"2021-12-18\") #iso formatı 3.7\n",
    "#strptime fonksiyonu ile giriş formatını belirtebilecğeiz. aşağıda örneği var.\n",
    "\n",
    "print(type(tarih))\n",
    "print(tarih.day)"
   ]
  },
  {
   "cell_type": "markdown",
   "id": "exciting-accent",
   "metadata": {},
   "source": [
    "### `strftime` ile çıktıyı formatlama \n",
    "\n",
    "* format codeları notlarda mevcut. Bu kodları kullanarak çıktıyı formatlayabiliriz."
   ]
  },
  {
   "cell_type": "code",
   "execution_count": 22,
   "id": "forbidden-society",
   "metadata": {},
   "outputs": [
    {
     "name": "stdout",
     "output_type": "stream",
     "text": [
      "2021-12-18\n",
      "Saturday 18. December 2021\n",
      "18/12/2021\n"
     ]
    }
   ],
   "source": [
    "print(tarih) #iso\n",
    "print(tarih.strftime(\"%A %d. %B %Y\"))\n",
    "print(tarih.strftime(\"%d/%m/%Y\")) #tr"
   ]
  },
  {
   "cell_type": "markdown",
   "id": "fantastic-programmer",
   "metadata": {},
   "source": [
    "### datetime\n",
    "\n",
    "date tipini içermektedir."
   ]
  },
  {
   "cell_type": "code",
   "execution_count": 31,
   "id": "neutral-notion",
   "metadata": {},
   "outputs": [
    {
     "name": "stdout",
     "output_type": "stream",
     "text": [
      "2021-12-18 11:03:13.474872\n",
      "2021-12-18 11:03:13.474872\n",
      "------------------------------\n",
      "Yıl: 2021\n",
      "Ay: 12\n",
      "Gun: 18\n"
     ]
    }
   ],
   "source": [
    "#dir(datetime)\n",
    "\n",
    "#bugünün tarihini zaman ile birlikte verir.\n",
    "print(datetime.today())\n",
    "print(datetime.now())\n",
    "\n",
    "#\n",
    "bugun = datetime.today()\n",
    "\n",
    "#tarih özel\n",
    "print(\"-\"*30)\n",
    "print(f\"Yıl: {bugun.year}\")\n",
    "print(f\"Ay: {bugun.month}\")\n",
    "print(f\"Gun: {bugun.day}\")"
   ]
  },
  {
   "cell_type": "markdown",
   "id": "inner-behavior",
   "metadata": {},
   "source": [
    "#### datetime üzerinden time"
   ]
  },
  {
   "cell_type": "code",
   "execution_count": 35,
   "id": "egyptian-bulgarian",
   "metadata": {},
   "outputs": [
    {
     "name": "stdout",
     "output_type": "stream",
     "text": [
      "Zaman: 11:05:04.186531\n",
      "Saat: 11\n",
      "Dakika: 5\n",
      "Saniye: 4\n"
     ]
    }
   ],
   "source": [
    "bugun = datetime.now()\n",
    "\n",
    "print(f\"Zaman: {bugun.time()}\" )\n",
    "\n",
    "print(f\"Saat: {bugun.time().hour}\")\n",
    "print(f\"Dakika: {bugun.time().minute}\")\n",
    "print(f\"Saniye: {bugun.time().second}\")"
   ]
  },
  {
   "cell_type": "markdown",
   "id": "alone-alert",
   "metadata": {},
   "source": [
    "### time"
   ]
  },
  {
   "cell_type": "code",
   "execution_count": 39,
   "id": "burning-constitutional",
   "metadata": {},
   "outputs": [
    {
     "name": "stdout",
     "output_type": "stream",
     "text": [
      "<class 'datetime.time'>\n",
      "6\n"
     ]
    }
   ],
   "source": [
    "zaman = time.fromisoformat(\"11:06:55\")\n",
    "\n",
    "print(type(zaman))\n",
    "\n",
    "print(zaman.minute)"
   ]
  },
  {
   "cell_type": "markdown",
   "id": "preliminary-adelaide",
   "metadata": {},
   "source": [
    "### `strptime` ile belli formatta tarih okuma \n",
    "\n",
    "format codeları kullanılarak giriş yapılır"
   ]
  },
  {
   "cell_type": "code",
   "execution_count": 43,
   "id": "conservative-prospect",
   "metadata": {},
   "outputs": [
    {
     "name": "stdout",
     "output_type": "stream",
     "text": [
      "<class 'datetime.datetime'>\n"
     ]
    }
   ],
   "source": [
    "str_tarih = \"18/12/2021\"\n",
    "\n",
    "tarih = datetime.strptime(str_tarih, \"%d/%m/%Y\") #giriş formatını belirleyelim\n",
    "\n",
    "print(type(tarih))"
   ]
  },
  {
   "cell_type": "code",
   "execution_count": 44,
   "id": "indirect-upset",
   "metadata": {},
   "outputs": [
    {
     "name": "stdout",
     "output_type": "stream",
     "text": [
      "Doğum tarihini giriniz (gün/ay/yıl): 01/01/1980\n",
      "Tuesday\n"
     ]
    }
   ],
   "source": [
    "#Soru: Doğum tarihi alınan kişinin hangi gün doğduğunu belirtelim. Pazartesi gibi.\n",
    "'''\n",
    "    -input\n",
    "    -datetime.strptime\n",
    "    -strftime\n",
    "    -%A günü açık verir.\n",
    "'''\n",
    "\n",
    "str_tarih = input(\"Doğum tarihini giriniz (gün/ay/yıl): \")\n",
    "\n",
    "dTarih=datetime.strptime(str_tarih, \"%d/%m/%Y\")\n",
    "\n",
    "print(dTarih.strftime(\"%A\"))"
   ]
  },
  {
   "cell_type": "markdown",
   "id": "exposed-evaluation",
   "metadata": {},
   "source": [
    "### timedelta\n",
    "\n",
    "iki tarih/zaman arasındaki fark timedelta olarak döner."
   ]
  },
  {
   "cell_type": "code",
   "execution_count": 58,
   "id": "pressing-coaching",
   "metadata": {},
   "outputs": [],
   "source": [
    "#dir(timedelta)"
   ]
  },
  {
   "cell_type": "code",
   "execution_count": 51,
   "id": "heard-division",
   "metadata": {},
   "outputs": [
    {
     "name": "stdout",
     "output_type": "stream",
     "text": [
      "<class 'datetime.timedelta'>\n",
      "351\n"
     ]
    }
   ],
   "source": [
    "tarih_farkı=date(2021,12,18) - date(2021,1,1) #datetime.timedelta(days=351) #geriye timedelta döndü.\n",
    "\n",
    "print(type(tarih_farkı)) #<class 'datetime.timedelta'>\n",
    "\n",
    "print(tarih_farkı.days)"
   ]
  },
  {
   "cell_type": "code",
   "execution_count": 54,
   "id": "french-rogers",
   "metadata": {},
   "outputs": [
    {
     "name": "stdout",
     "output_type": "stream",
     "text": [
      "2021-12-25\n"
     ]
    }
   ],
   "source": [
    "#tarihte hareket etmek\n",
    "yedi_gun = timedelta(days = 7) #7 gün fark +,- verilebilir.\n",
    "\n",
    "print(date.today() + yedi_gun) #7 gün sonrası"
   ]
  },
  {
   "cell_type": "code",
   "execution_count": 64,
   "id": "detailed-given",
   "metadata": {},
   "outputs": [
    {
     "name": "stdout",
     "output_type": "stream",
     "text": [
      "Doğum tarihinizi giriniz (gün/ay/yıl)01/01/1980\n",
      "Siz doğalı  15,327 gün oldu\n",
      "Siz doğalı 1,324,294,180 saniye oldu\n"
     ]
    }
   ],
   "source": [
    "#örn: Doğalı kaç gün oldu.\n",
    "\n",
    "str_tarih = input(\"Doğum tarihinizi giriniz (gün/ay/yıl)\")\n",
    "\n",
    "dtarih = datetime.strptime(str_tarih, \"%d/%m/%Y\")\n",
    "\n",
    "bugun = datetime.now()\n",
    "\n",
    "gecen_sure = bugun - dtarih\n",
    "\n",
    "print(f\"Siz doğalı {gecen_sure.days : ,} gün oldu\")\n",
    "print(f\"Siz doğalı {gecen_sure.total_seconds() :,.0f} saniye oldu\")"
   ]
  }
 ],
 "metadata": {
  "kernelspec": {
   "display_name": "Python 3",
   "language": "python",
   "name": "python3"
  },
  "language_info": {
   "codemirror_mode": {
    "name": "ipython",
    "version": 3
   },
   "file_extension": ".py",
   "mimetype": "text/x-python",
   "name": "python",
   "nbconvert_exporter": "python",
   "pygments_lexer": "ipython3",
   "version": "3.8.8"
  },
  "varInspector": {
   "cols": {
    "lenName": 16,
    "lenType": 16,
    "lenVar": 40
   },
   "kernels_config": {
    "python": {
     "delete_cmd_postfix": "",
     "delete_cmd_prefix": "del ",
     "library": "var_list.py",
     "varRefreshCmd": "print(var_dic_list())"
    },
    "r": {
     "delete_cmd_postfix": ") ",
     "delete_cmd_prefix": "rm(",
     "library": "var_list.r",
     "varRefreshCmd": "cat(var_dic_list()) "
    }
   },
   "types_to_exclude": [
    "module",
    "function",
    "builtin_function_or_method",
    "instance",
    "_Feature"
   ],
   "window_display": false
  }
 },
 "nbformat": 4,
 "nbformat_minor": 5
}
