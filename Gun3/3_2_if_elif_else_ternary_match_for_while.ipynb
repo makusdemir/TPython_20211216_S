{
 "cells": [
  {
   "cell_type": "markdown",
   "id": "falling-training",
   "metadata": {},
   "source": [
    "## Karar Yapıları\n",
    "\n",
    "1. **`if, elif, else` kullanımı (iç içe if yazılabilir)**\n",
    "\n",
    "```python\n",
    "#tüm if bloklarının çalışması için alt alta if yazarız.\n",
    "if şart:\n",
    "    #şart True ürettiğinde çalışacak kodları\n",
    "    pass #kodlar için yer tutucudur. kod yazmadan geçebilmemizi sağlıyor.\n",
    "if şart2:\n",
    "    pass\n",
    "\n",
    "\n",
    "#şart True döndüğünde sonraki kontrollerin yapılmamasını istersek şartları elif ile sıralarız.\n",
    "#hiç bir şart sağlanmazsa else bloğu çalışır.\n",
    "\n",
    "if TrueFalseDonecekŞart:\n",
    "    pass\n",
    "elif şart2:\n",
    "    pass\n",
    "elif şart3:\n",
    "    pass\n",
    "else:\n",
    "    pass\n",
    "```\n",
    "\n",
    "2. **Ternary** (tek satırda if yazmamızı sağlar.) \n",
    "\n",
    "```python\n",
    "TruiseDonecekDeger if şart else FalseIseDonecekDeger\n",
    "```\n",
    "\n",
    "3. **Tuple ve index**\n",
    "\n",
    "```python\n",
    "    (FalseIseDonecekDeger,TrueIseDonecekDeger)[şart] #tuple elemanlarına şart index olarak kullanıp erişiyoruz.True için 1 False için 0 dönüyor.\n",
    "``` "
   ]
  },
  {
   "cell_type": "markdown",
   "id": "creative-recipient",
   "metadata": {},
   "source": [
    "### if, elif, else"
   ]
  },
  {
   "cell_type": "code",
   "execution_count": 5,
   "id": "regional-chemical",
   "metadata": {},
   "outputs": [
    {
     "name": "stdout",
     "output_type": "stream",
     "text": [
      "Yaşınızı giriniz: 10\n",
      "Siz doğalı 3,650 gün oldu\n"
     ]
    }
   ],
   "source": [
    "#örn: Yaşı alınan kişinin kaç gündür hayatta olduğunu kabaca hesaplayalım.\n",
    "yas = input(\"Yaşınızı giriniz: \") #str\n",
    "\n",
    "if yas.isdigit(): #pozitif tam sayı ise\n",
    "    print(f\"Siz doğalı {int(yas) * 365 :,} gün oldu\") #int ile bilincli dönüşüm :, ile binlik ayraç verdik.\n",
    "else:\n",
    "    print(\"Pozitif tam sayı girmelisiniz.\")"
   ]
  },
  {
   "cell_type": "code",
   "execution_count": 11,
   "id": "homeless-female",
   "metadata": {},
   "outputs": [
    {
     "name": "stdout",
     "output_type": "stream",
     "text": [
      "Notunuz: A\n"
     ]
    }
   ],
   "source": [
    "#örn:\n",
    "sinavSonucu = 90\n",
    "harfNotu=\"\"\n",
    "\n",
    "if 0<= sinavSonucu <=100: #0<=sinavSonucu and sinavSonucu<=100 şeklinde de yazılabilirdi.\n",
    "    #pass #kodlar için yer tutucudur.\n",
    "    if sinavSonucu >= 85:\n",
    "        harfNotu=\"A\"\n",
    "    elif sinavSonucu >= 70:\n",
    "        harfNotu=\"B\"\n",
    "    elif sinavSonucu >= 55:\n",
    "        harfNotu=\"C\"\n",
    "    elif sinavSonucu >= 45:\n",
    "        harfNotu=\"D\"\n",
    "    else:\n",
    "        harfNotu=\"F\"\n",
    "    \n",
    "    #-\n",
    "    print(f\"Notunuz: {harfNotu}\")\n",
    "    \n",
    "    \n",
    "else:\n",
    "    print(\"0 ile 100 arasında deger olmalıdır.\")\n",
    "    "
   ]
  },
  {
   "cell_type": "code",
   "execution_count": 17,
   "id": "residential-kruger",
   "metadata": {},
   "outputs": [
    {
     "name": "stdout",
     "output_type": "stream",
     "text": [
      "x sayısını giriniz: 10\n",
      "y sayısını giriniz: 2\n",
      "İşlem seçiniz (+,-,*)/\n",
      "Bilinmeyen işlem seçtiniz.\n",
      "Sadece (+,-,*) işlemlerini destekliyoruz.\n"
     ]
    }
   ],
   "source": [
    "#Soru:\n",
    "'''\n",
    "    Hesap makinesi yapalım\n",
    "    - iki sayı alsın\n",
    "    - işlem istesin (+,-,*)\n",
    "    \n",
    "    istenmeyen işlem geldiğinde uyarsın.\n",
    "    secilen işlemin sonucun ekrana yazdıralım.\n",
    "    \n",
    "    not: sayıların int geldiğini kabul edelim. direk alırken tip dönüşümü yapabiliriz.\n",
    "'''\n",
    "x = int(input(\"x sayısını giriniz: \"))\n",
    "y = int(input(\"y sayısını giriniz: \"))\n",
    "\n",
    "islem = input(\"İşlem seçiniz (+,-,*)\")\n",
    "\n",
    "#--\n",
    "#: yanından devam edebiliriz. Alta geçeceksek blok içeriisnde kalmak için tab koymak gerekir.\n",
    "if   islem == \"+\": print(f\"\\tSonuç: {x+y}\")\n",
    "elif islem == \"-\": print(f\"\\tSonuç: {x-y}\")\n",
    "elif islem == \"*\": print(f\"\\tSonuç: {x*y}\")\n",
    "else:print(\"Bilinmeyen işlem seçtiniz.\");print(\"Sadece (+,-,*) işlemlerini destekliyoruz.\")\n",
    "    \n",
    "'''\n",
    "    : sonrasında devam edilebilir. alt satıra geçilecekse tab koymak gerekir.\n",
    "    ; ile anlamlı kod parçasının tamamlandığını ifade ettik.\n",
    "    \\ kaldığım yerden alt satırda devam edeceğim\n",
    "'''"
   ]
  },
  {
   "cell_type": "code",
   "execution_count": null,
   "id": "improving-lindsay",
   "metadata": {},
   "outputs": [],
   "source": [
    "'''\n",
    "#python 3.10 sonrasında math-case kullanılabilir\n",
    "\n",
    "x=int(input(\"x : \"))\n",
    "y=int(input(\"y : \"))\n",
    "\n",
    "islem=input(\"İşlem (+,-, *, /): \")\n",
    "\n",
    "match islem:\n",
    "    case \"+\":\n",
    "         print(\"Toplam:\", x+y)\n",
    "    case \"-\":\n",
    "         print(\"Fark:\", x+y)\n",
    "    case \"*\":\n",
    "         print(\"Çarpım:\", x*y)\n",
    "    case \"/\":\n",
    "         print(\"Bölüm\", x/y)       \n",
    "    case _:\n",
    "         print(\"Bilinmeyen bir işlem talep ettiniz.\")\n",
    "'''"
   ]
  },
  {
   "cell_type": "markdown",
   "id": "coordinated-appliance",
   "metadata": {},
   "source": [
    "### Ternary"
   ]
  },
  {
   "cell_type": "code",
   "execution_count": 19,
   "id": "otherwise-jacob",
   "metadata": {},
   "outputs": [
    {
     "data": {
      "text/plain": [
       "'Çift Sayıdır'"
      ]
     },
     "execution_count": 19,
     "metadata": {},
     "output_type": "execute_result"
    }
   ],
   "source": [
    "#örn: sayı çift mi tek mi?\n",
    "sayi = 16\n",
    "\n",
    "\"Çift Sayıdır\" if sayi%2==0 else \"Tek sayıdır\""
   ]
  },
  {
   "cell_type": "markdown",
   "id": "anticipated-league",
   "metadata": {},
   "source": [
    "### Tuple-Index Yöntemi"
   ]
  },
  {
   "cell_type": "code",
   "execution_count": 25,
   "id": "optical-positive",
   "metadata": {},
   "outputs": [
    {
     "data": {
      "text/plain": [
       "'Tek Sayı'"
      ]
     },
     "execution_count": 25,
     "metadata": {},
     "output_type": "execute_result"
    }
   ],
   "source": [
    "#örn: sayı çift mi tek mi?\n",
    "sayi = 15\n",
    "\n",
    "(\"Tek Sayı\",\"Çift Sayı\")[sayi%2==0] #True için 1 False için 0. index dönecek"
   ]
  },
  {
   "cell_type": "code",
   "execution_count": 26,
   "id": "durable-outside",
   "metadata": {},
   "outputs": [
    {
     "data": {
      "text/plain": [
       "'Tam bölünür'"
      ]
     },
     "execution_count": 26,
     "metadata": {},
     "output_type": "execute_result"
    }
   ],
   "source": [
    "#örn: sayı 3'e bölünür mü?\n",
    "sayi = 15\n",
    "\n",
    "(\"Tam bölünür\",\"1 Kalır\",\"2 Kalır\")[sayi%3] #True için 1 False için 0. index dönecek"
   ]
  },
  {
   "cell_type": "markdown",
   "id": "skilled-decline",
   "metadata": {},
   "source": [
    "### Döngüler (for, while)\n",
    "\n",
    "1. **for döngüsü** iterasyon yapılabilecek nesnelerin (container tipler, range vs.) elemanlarına tek tek ulaşmak için kullanılır.\n",
    "\n",
    "```python\n",
    "for eleman in iterNesnesi:\n",
    "    pass #her bir elaman için çalışacak kodlar\n",
    "```\n",
    "2. **tek satırda for** yazılabilir. Eğer çıktının list, tuple, set gibi bir nesne olmasını istersek kullanırız.\n",
    "\n",
    "```python\n",
    "[eleman.fnkIslem() for eleman in iterNesnesi] #[] ile list dönecek\n",
    "(eleman.fnkIslem() for eleman in iterNesnesi) #() tuple\n",
    "{eleman.fnkIslem() for eleman in iterNesnesi} #{} set\n",
    "```\n",
    "3. **while** şart True olduğu sürece çalışır.\n",
    "\n",
    "```python\n",
    "while şart:\n",
    "    pass #şart True olduğu sürece çalışacak kodlar\n",
    "else: \n",
    "    pass #şarta uymayan bir durumla karşılaşıldığnda çalışır.\n",
    "```\n",
    "\n",
    "**Not:** Bütün döngüler `continue` ile bir sonraki iterasyona geçilir, `break` ile döngüden çıkır."
   ]
  },
  {
   "cell_type": "code",
   "execution_count": null,
   "id": "liable-infection",
   "metadata": {},
   "outputs": [],
   "source": []
  }
 ],
 "metadata": {
  "kernelspec": {
   "display_name": "Python 3",
   "language": "python",
   "name": "python3"
  },
  "language_info": {
   "codemirror_mode": {
    "name": "ipython",
    "version": 3
   },
   "file_extension": ".py",
   "mimetype": "text/x-python",
   "name": "python",
   "nbconvert_exporter": "python",
   "pygments_lexer": "ipython3",
   "version": "3.8.8"
  },
  "varInspector": {
   "cols": {
    "lenName": 16,
    "lenType": 16,
    "lenVar": 40
   },
   "kernels_config": {
    "python": {
     "delete_cmd_postfix": "",
     "delete_cmd_prefix": "del ",
     "library": "var_list.py",
     "varRefreshCmd": "print(var_dic_list())"
    },
    "r": {
     "delete_cmd_postfix": ") ",
     "delete_cmd_prefix": "rm(",
     "library": "var_list.r",
     "varRefreshCmd": "cat(var_dic_list()) "
    }
   },
   "types_to_exclude": [
    "module",
    "function",
    "builtin_function_or_method",
    "instance",
    "_Feature"
   ],
   "window_display": false
  }
 },
 "nbformat": 4,
 "nbformat_minor": 5
}
