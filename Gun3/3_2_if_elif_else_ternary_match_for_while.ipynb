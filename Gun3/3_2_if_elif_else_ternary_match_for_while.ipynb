{
 "cells": [
  {
   "cell_type": "markdown",
   "id": "visible-republic",
   "metadata": {},
   "source": [
    "## Karar Yapıları\n",
    "\n",
    "1. **`if, elif, else` kullanımı (iç içe if yazılabilir)**\n",
    "\n",
    "```python\n",
    "#tüm if bloklarının çalışması için alt alta if yazarız.\n",
    "if şart:\n",
    "    #şart True ürettiğinde çalışacak kodları\n",
    "    pass #kodlar için yer tutucudur. kod yazmadan geçebilmemizi sağlıyor.\n",
    "if şart2:\n",
    "    pass\n",
    "\n",
    "\n",
    "#şart True döndüğünde sonraki kontrollerin yapılmamasını istersek şartları elif ile sıralarız.\n",
    "#hiç bir şart sağlanmazsa else bloğu çalışır.\n",
    "\n",
    "if TrueFalseDonecekŞart:\n",
    "    pass\n",
    "elif şart2:\n",
    "    pass\n",
    "elif şart3:\n",
    "    pass\n",
    "else:\n",
    "    pass\n",
    "```\n",
    "\n",
    "2. **Ternary** (tek satırda if yazmamızı sağlar.) \n",
    "\n",
    "```python\n",
    "TruiseDonecekDeger if şart else FalseIseDonecekDeger\n",
    "```\n",
    "\n",
    "3. **Tuple ve index**\n",
    "\n",
    "```python\n",
    "    (FalseIseDonecekDeger,TrueIseDonecekDeger)[şart] #tuple elemanlarına şart index olarak kullanıp erişiyoruz.True için 1 False için 0 dönüyor.\n",
    "``` "
   ]
  },
  {
   "cell_type": "markdown",
   "id": "municipal-workshop",
   "metadata": {},
   "source": [
    "### if, elif, else"
   ]
  },
  {
   "cell_type": "code",
   "execution_count": 5,
   "id": "acquired-regard",
   "metadata": {},
   "outputs": [
    {
     "name": "stdout",
     "output_type": "stream",
     "text": [
      "Yaşınızı giriniz: 10\n",
      "Siz doğalı 3,650 gün oldu\n"
     ]
    }
   ],
   "source": [
    "#örn: Yaşı alınan kişinin kaç gündür hayatta olduğunu kabaca hesaplayalım.\n",
    "yas = input(\"Yaşınızı giriniz: \") #str\n",
    "\n",
    "if yas.isdigit(): #pozitif tam sayı ise\n",
    "    print(f\"Siz doğalı {int(yas) * 365 :,} gün oldu\") #int ile bilincli dönüşüm :, ile binlik ayraç verdik.\n",
    "else:\n",
    "    print(\"Pozitif tam sayı girmelisiniz.\")"
   ]
  },
  {
   "cell_type": "code",
   "execution_count": 11,
   "id": "satellite-billy",
   "metadata": {},
   "outputs": [
    {
     "name": "stdout",
     "output_type": "stream",
     "text": [
      "Notunuz: A\n"
     ]
    }
   ],
   "source": [
    "#örn:\n",
    "sinavSonucu = 90\n",
    "harfNotu=\"\"\n",
    "\n",
    "if 0<= sinavSonucu <=100: #0<=sinavSonucu and sinavSonucu<=100 şeklinde de yazılabilirdi.\n",
    "    #pass #kodlar için yer tutucudur.\n",
    "    if sinavSonucu >= 85:\n",
    "        harfNotu=\"A\"\n",
    "    elif sinavSonucu >= 70:\n",
    "        harfNotu=\"B\"\n",
    "    elif sinavSonucu >= 55:\n",
    "        harfNotu=\"C\"\n",
    "    elif sinavSonucu >= 45:\n",
    "        harfNotu=\"D\"\n",
    "    else:\n",
    "        harfNotu=\"F\"\n",
    "    \n",
    "    #-\n",
    "    print(f\"Notunuz: {harfNotu}\")\n",
    "    \n",
    "    \n",
    "else:\n",
    "    print(\"0 ile 100 arasında deger olmalıdır.\")\n",
    "    "
   ]
  },
  {
   "cell_type": "code",
   "execution_count": 17,
   "id": "cardiac-newspaper",
   "metadata": {},
   "outputs": [
    {
     "name": "stdout",
     "output_type": "stream",
     "text": [
      "x sayısını giriniz: 10\n",
      "y sayısını giriniz: 2\n",
      "İşlem seçiniz (+,-,*)/\n",
      "Bilinmeyen işlem seçtiniz.\n",
      "Sadece (+,-,*) işlemlerini destekliyoruz.\n"
     ]
    }
   ],
   "source": [
    "#Soru:\n",
    "'''\n",
    "    Hesap makinesi yapalım\n",
    "    - iki sayı alsın\n",
    "    - işlem istesin (+,-,*)\n",
    "    \n",
    "    istenmeyen işlem geldiğinde uyarsın.\n",
    "    secilen işlemin sonucun ekrana yazdıralım.\n",
    "    \n",
    "    not: sayıların int geldiğini kabul edelim. direk alırken tip dönüşümü yapabiliriz.\n",
    "'''\n",
    "x = int(input(\"x sayısını giriniz: \"))\n",
    "y = int(input(\"y sayısını giriniz: \"))\n",
    "\n",
    "islem = input(\"İşlem seçiniz (+,-,*)\")\n",
    "\n",
    "#--\n",
    "#: yanından devam edebiliriz. Alta geçeceksek blok içeriisnde kalmak için tab koymak gerekir.\n",
    "if   islem == \"+\": print(f\"\\tSonuç: {x+y}\")\n",
    "elif islem == \"-\": print(f\"\\tSonuç: {x-y}\")\n",
    "elif islem == \"*\": print(f\"\\tSonuç: {x*y}\")\n",
    "else:print(\"Bilinmeyen işlem seçtiniz.\");print(\"Sadece (+,-,*) işlemlerini destekliyoruz.\")\n",
    "    \n",
    "'''\n",
    "    : sonrasında devam edilebilir. alt satıra geçilecekse tab koymak gerekir.\n",
    "    ; ile anlamlı kod parçasının tamamlandığını ifade ettik.\n",
    "    \\ kaldığım yerden alt satırda devam edeceğim\n",
    "'''"
   ]
  },
  {
   "cell_type": "code",
   "execution_count": null,
   "id": "sized-gabriel",
   "metadata": {},
   "outputs": [],
   "source": [
    "'''\n",
    "#python 3.10 sonrasında math-case kullanılabilir\n",
    "\n",
    "x=int(input(\"x : \"))\n",
    "y=int(input(\"y : \"))\n",
    "\n",
    "islem=input(\"İşlem (+,-, *, /): \")\n",
    "\n",
    "match islem:\n",
    "    case \"+\":\n",
    "         print(\"Toplam:\", x+y)\n",
    "    case \"-\":\n",
    "         print(\"Fark:\", x+y)\n",
    "    case \"*\":\n",
    "         print(\"Çarpım:\", x*y)\n",
    "    case \"/\":\n",
    "         print(\"Bölüm\", x/y)       \n",
    "    case _:\n",
    "         print(\"Bilinmeyen bir işlem talep ettiniz.\")\n",
    "'''"
   ]
  },
  {
   "cell_type": "markdown",
   "id": "handy-there",
   "metadata": {},
   "source": [
    "### Ternary"
   ]
  },
  {
   "cell_type": "code",
   "execution_count": 19,
   "id": "protecting-irish",
   "metadata": {},
   "outputs": [
    {
     "data": {
      "text/plain": [
       "'Çift Sayıdır'"
      ]
     },
     "execution_count": 19,
     "metadata": {},
     "output_type": "execute_result"
    }
   ],
   "source": [
    "#örn: sayı çift mi tek mi?\n",
    "sayi = 16\n",
    "\n",
    "\"Çift Sayıdır\" if sayi%2==0 else \"Tek sayıdır\""
   ]
  },
  {
   "cell_type": "markdown",
   "id": "overall-month",
   "metadata": {},
   "source": [
    "### Tuple-Index Yöntemi"
   ]
  },
  {
   "cell_type": "code",
   "execution_count": 25,
   "id": "considerable-mongolia",
   "metadata": {},
   "outputs": [
    {
     "data": {
      "text/plain": [
       "'Tek Sayı'"
      ]
     },
     "execution_count": 25,
     "metadata": {},
     "output_type": "execute_result"
    }
   ],
   "source": [
    "#örn: sayı çift mi tek mi?\n",
    "sayi = 15\n",
    "\n",
    "(\"Tek Sayı\",\"Çift Sayı\")[sayi%2==0] #True için 1 False için 0. index dönecek"
   ]
  },
  {
   "cell_type": "code",
   "execution_count": 26,
   "id": "tight-witch",
   "metadata": {},
   "outputs": [
    {
     "data": {
      "text/plain": [
       "'Tam bölünür'"
      ]
     },
     "execution_count": 26,
     "metadata": {},
     "output_type": "execute_result"
    }
   ],
   "source": [
    "#örn: sayı 3'e bölünür mü?\n",
    "sayi = 15\n",
    "\n",
    "(\"Tam bölünür\",\"1 Kalır\",\"2 Kalır\")[sayi%3] #True için 1 False için 0. index dönecek"
   ]
  },
  {
   "cell_type": "markdown",
   "id": "featured-convenience",
   "metadata": {},
   "source": [
    "### Döngüler (for, while)\n",
    "\n",
    "1. **for döngüsü** iterasyon yapılabilecek nesnelerin (container tipler, range vs.) elemanlarına tek tek ulaşmak için kullanılır.\n",
    "\n",
    "```python\n",
    "for eleman in iterNesnesi:\n",
    "    pass #her bir elaman için çalışacak kodlar\n",
    "```\n",
    "2. **tek satırda for** yazılabilir. Eğer çıktının list, tuple, set gibi bir nesne olmasını istersek kullanırız.\n",
    "\n",
    "```python\n",
    "[eleman.fnkIslem() for eleman in iterNesnesi] #[] ile list dönecek\n",
    "(eleman.fnkIslem() for eleman in iterNesnesi) #() tuple\n",
    "{eleman.fnkIslem() for eleman in iterNesnesi} #{} set\n",
    "```\n",
    "3. **while** şart True olduğu sürece çalışır.\n",
    "\n",
    "```python\n",
    "while şart:\n",
    "    pass #şart True olduğu sürece çalışacak kodlar\n",
    "else: \n",
    "    pass #şarta uymayan bir durumla karşılaşıldığnda çalışır.\n",
    "```\n",
    "\n",
    "**Not:** Bütün döngüler `continue` ile bir sonraki iterasyona geçilir, `break` ile döngüden çıkır."
   ]
  },
  {
   "cell_type": "markdown",
   "id": "894bc4a7",
   "metadata": {},
   "source": [
    "### for"
   ]
  },
  {
   "cell_type": "code",
   "execution_count": 5,
   "id": "9c7b508b",
   "metadata": {},
   "outputs": [
    {
     "name": "stdout",
     "output_type": "stream",
     "text": [
      "M-E-R-H-A-B-A- -D-Ü-N-Y-A-L-I-"
     ]
    },
    {
     "data": {
      "text/plain": [
       "{' ', 'A', 'B', 'D', 'E', 'H', 'I', 'L', 'M', 'N', 'R', 'Y', 'Ü'}"
      ]
     },
     "execution_count": 5,
     "metadata": {},
     "output_type": "execute_result"
    }
   ],
   "source": [
    "cumle = 'merhaba dünyalı' #str container tip.\n",
    "\n",
    "#1a\n",
    "for karakter in cumle:\n",
    "    print(karakter.upper(), end=\"-\")\n",
    "    \n",
    "#1b.\n",
    "[karakter.upper() for karakter in cumle] #list\n",
    "{karakter.upper() for karakter in cumle} #set"
   ]
  },
  {
   "cell_type": "code",
   "execution_count": 8,
   "id": "3a6943cb",
   "metadata": {},
   "outputs": [
    {
     "data": {
      "text/plain": [
       "[3, 4, 5, 6, 7, 8, 9, 10, 11, 12, 13, 14, 15, 16, 17, 18, 19]"
      ]
     },
     "execution_count": 8,
     "metadata": {},
     "output_type": "execute_result"
    }
   ],
   "source": [
    "#range iki sayı arasındaki tüm sayıları tutar.\n",
    "range(10) #0-10 arasındaki sayılar for ile içerisinde dönebiliriz.\n",
    "\n",
    "list(range(10))\n",
    "list(range(3,20)) #3-20"
   ]
  },
  {
   "cell_type": "code",
   "execution_count": 14,
   "id": "7e6f0547",
   "metadata": {},
   "outputs": [
    {
     "name": "stdout",
     "output_type": "stream",
     "text": [
      "['0 karesi 0', '1 karesi 1', '2 karesi 4', '3 karesi 9', '4 karesi 16', '5 karesi 25', '6 karesi 36', '7 karesi 49', '8 karesi 64', '9 karesi 81']\n"
     ]
    }
   ],
   "source": [
    "#soru: 0-10 arasındaki sayıları ve karelerini yazalım. 2 karesi 4\n",
    "\n",
    "'''\n",
    "#direkt ekrana yazdık.\n",
    "for s in range(10):\n",
    "    print(f\"{s} karesi {s**2}\")\n",
    "''' \n",
    "#----------------------\n",
    "#sonuç olarak elimizde bir liste olsun isteyebilirz.\n",
    "\n",
    "lst_kareler = []\n",
    "\n",
    "for s in range(10):\n",
    "    lst_kareler.append(f\"{s} karesi {s**2}\")\n",
    "#------------------------------\n",
    "\n",
    "lst_kareler = [f\"{s} karesi {s**2}\" for s in range(10)]\n",
    "\n",
    "#---\n",
    "print(lst_kareler)"
   ]
  },
  {
   "cell_type": "code",
   "execution_count": 16,
   "id": "3dbd113e",
   "metadata": {},
   "outputs": [
    {
     "name": "stdout",
     "output_type": "stream",
     "text": [
      "[30, 32, 34, 36, 38, 40, 42, 44, 46, 48, 50, 52, 54, 56, 58, 60, 62, 64, 66, 68, 70, 72, 74, 76, 78, 80, 82, 84, 86, 88, 90, 92, 94, 96, 98]\n"
     ]
    }
   ],
   "source": [
    "#örn: verilen aralıktaki çift sayıları döndürelim\n",
    "#2a açık hali\n",
    "\n",
    "lst_cift=[]\n",
    "\n",
    "for s in range(30,100):\n",
    "    if s%2==0:\n",
    "        lst_cift.append(s)\n",
    "\n",
    "#2b tek satırda\n",
    "lst_cift = [s for s in range(30,100) if s%2==0]\n",
    "#----\n",
    "print(lst_cift)"
   ]
  },
  {
   "cell_type": "code",
   "execution_count": 21,
   "id": "9c251bdf",
   "metadata": {},
   "outputs": [
    {
     "name": "stdout",
     "output_type": "stream",
     "text": [
      "['7x1 = 7', '7x2 = 14', '7x3 = 21', '7x4 = 28', '7x5 = 35', '7x6 = 42', '7x7 = 49', '7x8 = 56', '7x9 = 63', '7x10 = 70']\n"
     ]
    }
   ],
   "source": [
    "#örn:Çarpım tablosunu oluşturalım\n",
    "kaclar = 7\n",
    "\n",
    "#3a.\n",
    "lst_carpim = []\n",
    "for x in range(1,11):\n",
    "    for y in range(1,11):\n",
    "        if x == kaclar:\n",
    "            lst_carpim.append(f\"{x}x{y} = {x*y}\")\n",
    "#-----\n",
    "#3b\n",
    "lst_carpim = [f\"{x}x{y} = {x*y}\" for x in range(1,11) for y in range(1,11) if x==kaclar]\n",
    "\n",
    "#--\n",
    "print(lst_carpim)"
   ]
  },
  {
   "cell_type": "code",
   "execution_count": 26,
   "id": "1624c937",
   "metadata": {},
   "outputs": [
    {
     "name": "stdout",
     "output_type": "stream",
     "text": [
      "merhaba dün\n",
      "4 adet sayı bulundu\n"
     ]
    }
   ],
   "source": [
    "#soru:\n",
    "'''\n",
    "    Verilen cümledeki harf olmayanları temizleyelim.\n",
    "    kaç adet numeric karekter temizledik yazdıralım.\n",
    "    0 sayısını saymasın\n",
    "'''\n",
    "cumle = 'm0e!r01h-a32b_a dü3n@y31a-!lı'\n",
    "temiz_cumle=\"\"\n",
    "num_sayac=0\n",
    "\n",
    "for karakter in cumle:\n",
    "    if karakter == \"@\":\n",
    "        break #@ işare görüldüğünde döngüden çıkar.ilk döngüden çıkar.\n",
    "    \n",
    "    if karakter.isnumeric():\n",
    "        if karakter==\"0\":\n",
    "            continue #döngü bir sonraki iterasyona geçer.            \n",
    "        num_sayac +=1    \n",
    "    elif karakter.isalpha() or karakter.isspace():\n",
    "        temiz_cumle +=karakter        \n",
    "        \n",
    "#--\n",
    "print(temiz_cumle)\n",
    "print(f\"{num_sayac} adet sayı bulundu\")\n",
    "    "
   ]
  },
  {
   "cell_type": "code",
   "execution_count": null,
   "id": "8ff701fe",
   "metadata": {},
   "outputs": [],
   "source": []
  }
 ],
 "metadata": {
  "kernelspec": {
   "display_name": "Python 3",
   "language": "python",
   "name": "python3"
  },
  "language_info": {
   "codemirror_mode": {
    "name": "ipython",
    "version": 3
   },
   "file_extension": ".py",
   "mimetype": "text/x-python",
   "name": "python",
   "nbconvert_exporter": "python",
   "pygments_lexer": "ipython3",
   "version": "3.10.1"
  },
  "toc": {
   "base_numbering": 1,
   "nav_menu": {},
   "number_sections": true,
   "sideBar": true,
   "skip_h1_title": false,
   "title_cell": "Table of Contents",
   "title_sidebar": "Contents",
   "toc_cell": false,
   "toc_position": {},
   "toc_section_display": true,
   "toc_window_display": false
  },
  "varInspector": {
   "cols": {
    "lenName": 16,
    "lenType": 16,
    "lenVar": 40
   },
   "kernels_config": {
    "python": {
     "delete_cmd_postfix": "",
     "delete_cmd_prefix": "del ",
     "library": "var_list.py",
     "varRefreshCmd": "print(var_dic_list())"
    },
    "r": {
     "delete_cmd_postfix": ") ",
     "delete_cmd_prefix": "rm(",
     "library": "var_list.r",
     "varRefreshCmd": "cat(var_dic_list()) "
    }
   },
   "types_to_exclude": [
    "module",
    "function",
    "builtin_function_or_method",
    "instance",
    "_Feature"
   ],
   "window_display": false
  }
 },
 "nbformat": 4,
 "nbformat_minor": 5
}
