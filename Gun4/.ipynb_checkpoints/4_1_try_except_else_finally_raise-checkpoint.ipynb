{
 "cells": [
  {
   "cell_type": "markdown",
   "id": "693f544f",
   "metadata": {},
   "source": [
    "### Hatalar ve Hata Yakalama\n",
    "\n",
    "* Hata Çeşitleri:\n",
    "\n",
    "1. **Mantık Hataları:** mesela hiç çalışmayacak bir if yazmış olabilirsiniz. if 1>2: print(\"çalışmaz\")\n",
    "2. **Syntax Hataları:** yazım hataları. Kodlar çalışmadan önce belli olur.\n",
    "3. **Runtime Hataları:** kodlar çalışır fakat bazı istisnai durumlarda hatalarla karşılaşılır. Bu hatalarla karşılaşıldığında ne yapılacağını belirtmezsek program çakılır. kapanır.\n",
    "    * runtime hatalarını yönetmek için **try-except-else-finally** blogu kullanılır.\n",
    "    \n",
    "```python\n",
    "\n",
    "try:\n",
    "    pass#hata olması muhtemel kodlar\n",
    "except hataTipiError as takmaAd:\n",
    "    pass #hataTipiError türünden bir hata ile karşılıldığında buradaki kodlar çalışır.\n",
    "except hata1, hata2:\n",
    "    pass #iki hata için de aynı işlemleri yapabiliriz.\n",
    "except Exception: #except\n",
    "    pass #Geriye kalan tüm hata türleri için yapılacaklar. Exception genel hata türüdür.\n",
    "else:\n",
    "    pass #herhangi bir hata ile karşılaşılmazsa çalışır.\n",
    "finally:\n",
    "    pass #hata olsa da olmasa da çalışır. Kaynakları serbest bırakmak. bağlantılarını kapatmak vs.    \n",
    "```\n",
    "\n",
    "**Not:** `raise hataTipiError()` ile programında bilinçli şekilde hata vermesini sağlayabiliriz. Belli şartlar gerçekleştiğinde programında devam etmesini istemeyebiliriz. Bu şartlar özel bazı adımlar atmak isteyebiliriz."
   ]
  },
  {
   "cell_type": "code",
   "execution_count": 1,
   "id": "6e5d8ba2",
   "metadata": {},
   "outputs": [],
   "source": [
    "#1.Mantıksal hatalar\n",
    "if 1>2:\n",
    "    print(\"Burası hiç çalışmaz\")"
   ]
  },
  {
   "cell_type": "code",
   "execution_count": 2,
   "id": "be7f8cd5",
   "metadata": {},
   "outputs": [
    {
     "ename": "SyntaxError",
     "evalue": "cannot assign to expression here. Maybe you meant '==' instead of '='? (Temp/ipykernel_2136/1879239881.py, line 4)",
     "output_type": "error",
     "traceback": [
      "\u001b[1;36m  File \u001b[1;32m\"C:\\Users\\Abdullah\\AppData\\Local\\Temp/ipykernel_2136/1879239881.py\"\u001b[1;36m, line \u001b[1;32m4\u001b[0m\n\u001b[1;33m    if x%2=0:\u001b[0m\n\u001b[1;37m       ^\u001b[0m\n\u001b[1;31mSyntaxError\u001b[0m\u001b[1;31m:\u001b[0m cannot assign to expression here. Maybe you meant '==' instead of '='?\n"
     ]
    }
   ],
   "source": [
    "#2.syntax hataları\n",
    "x = 12\n",
    "\n",
    "if x%2=0: #= atama, == karşılaştırma operatorudur.\n",
    "    print(\"Çift sayıdır.\")"
   ]
  },
  {
   "cell_type": "code",
   "execution_count": 5,
   "id": "9dea5cd8",
   "metadata": {},
   "outputs": [
    {
     "ename": "ZeroDivisionError",
     "evalue": "division by zero",
     "output_type": "error",
     "traceback": [
      "\u001b[1;31m---------------------------------------------------------------------------\u001b[0m",
      "\u001b[1;31mZeroDivisionError\u001b[0m                         Traceback (most recent call last)",
      "\u001b[1;32m~\\AppData\\Local\\Temp/ipykernel_2136/59659407.py\u001b[0m in \u001b[0;36m<module>\u001b[1;34m\u001b[0m\n\u001b[0;32m      3\u001b[0m \u001b[0my\u001b[0m \u001b[1;33m=\u001b[0m \u001b[1;36m0\u001b[0m\u001b[1;33m\u001b[0m\u001b[1;33m\u001b[0m\u001b[0m\n\u001b[0;32m      4\u001b[0m \u001b[1;33m\u001b[0m\u001b[0m\n\u001b[1;32m----> 5\u001b[1;33m \u001b[0mprint\u001b[0m\u001b[1;33m(\u001b[0m\u001b[1;34m\"Sonuç : \"\u001b[0m\u001b[1;33m,\u001b[0m\u001b[0mx\u001b[0m\u001b[1;33m/\u001b[0m\u001b[0my\u001b[0m\u001b[1;33m)\u001b[0m\u001b[1;33m\u001b[0m\u001b[1;33m\u001b[0m\u001b[0m\n\u001b[0m",
      "\u001b[1;31mZeroDivisionError\u001b[0m: division by zero"
     ]
    }
   ],
   "source": [
    "#3.runtime\n",
    "x = 12\n",
    "y = 0\n",
    "\n",
    "print(\"Sonuç : \",x/y) #y=0 olduğunda ZeroDivisionError hatası verir."
   ]
  },
  {
   "cell_type": "code",
   "execution_count": 10,
   "id": "54a439d8",
   "metadata": {},
   "outputs": [
    {
     "name": "stdout",
     "output_type": "stream",
     "text": [
      "----> Sıfıra bölünme hatası aldınız.\n",
      "----> Sistem Mesajı :  division by zero\n",
      "Hesaplama sonucu :  ∞\n"
     ]
    }
   ],
   "source": [
    "#örn: runtime hatlarını yönetmek için try kullanırız.\n",
    "x = 12\n",
    "y = 0\n",
    "sonuc=None\n",
    "\n",
    "try:\n",
    "    sonuc = x/y\n",
    "except ZeroDivisionError as ex:\n",
    "    print(\"----> Sıfıra bölünme hatası aldınız.\")\n",
    "    print(\"----> Sistem Mesajı : \", ex)\n",
    "    sonuc = \"\\u221E\" #sonsuz ikonu\n",
    "except Exception: #except #geriye kalan başka muhtemel hatalar varsa kullanalım.\n",
    "    print(\"Ön görülemeyen bir hata ile karşılaşıldı.\")\n",
    "    pass #mail atacağız.\n",
    "    print(\"Geliştiriciye mail atıldı.\")\n",
    "    sonuc = \"Belirsiz\"\n",
    "else:\n",
    "    print(\"İşleminiz başarıyla gerçekleştirildi.\")\n",
    "finally:\n",
    "    print(\"Hesaplama sonucu : \", sonuc)\n",
    "    "
   ]
  },
  {
   "cell_type": "markdown",
   "id": "9880f311",
   "metadata": {},
   "source": [
    "### `raise` ile kendi hatalarımızı fırlatalım\n",
    "\n",
    "* Sistemdeki hata mesajlarını kullanarak sahte hataları üretebiliriz. \n",
    "* Dilersek kendi hata tipimizi oluşturabiliriz."
   ]
  },
  {
   "cell_type": "code",
   "execution_count": 14,
   "id": "07899a1c",
   "metadata": {},
   "outputs": [],
   "source": [
    "#soru: gömülü nesneler içerisindeki hata nesnelerini çekelim. Sonu Error ile bitenler. __builtins__\n",
    "#[e for e in dir(__builtins__) if \"Error\" in e]"
   ]
  },
  {
   "cell_type": "code",
   "execution_count": 20,
   "id": "d204d2b4",
   "metadata": {},
   "outputs": [
    {
     "name": "stdout",
     "output_type": "stream",
     "text": [
      "Sıcaklığı giriniz: -10\n",
      "Bir hata ile karşılaşıldı.\n",
      "hata mesajı:  Negatif sıcaklıklara bakmıyoruz.\n"
     ]
    }
   ],
   "source": [
    "#örn:\n",
    "#C versilsin F hesaplayalım. F = 1.8*C + 32\n",
    "#Sıcaklığı F' çevirelim. Sadece pozitif çıcaklıklar çevrilsin.\n",
    "\n",
    "c_str = input(\"Sıcaklığı giriniz: \")\n",
    "\n",
    "try:\n",
    "    c_float = float(c_str) #tip dönüşümü\n",
    "    \n",
    "    #---------\n",
    "    if c_float < 0:\n",
    "        raise PermissionError(\"Negatif sıcaklıklara bakmıyoruz.\") #sistem hatasını ürettik.\n",
    "    #---------\n",
    "    \n",
    "    F = 1.8 * c_float + 32\n",
    "    \n",
    "    print(f\"{c_float} C = {F} F\")\n",
    "except Exception as ex:\n",
    "    print(\"Bir hata ile karşılaşıldı.\")\n",
    "    print(\"hata mesajı: \",ex)"
   ]
  },
  {
   "cell_type": "markdown",
   "id": "fea41903",
   "metadata": {},
   "source": [
    "#### Kendi hatalarımızı üretmek"
   ]
  },
  {
   "cell_type": "code",
   "execution_count": 21,
   "id": "88b092d4",
   "metadata": {},
   "outputs": [],
   "source": [
    "#Sistemdeki hata mesajını kullanırsak aynı hata gerçekten ortaya çıkarsa bir karşılıklık olabilir.\n",
    "class NegatifDegerGirmeError(Exception): #kalıtımla ilgili bir hareket. Exception'dan bazı özellikleri miras alır.\n",
    "    pass"
   ]
  },
  {
   "cell_type": "code",
   "execution_count": 22,
   "id": "36451efc",
   "metadata": {},
   "outputs": [
    {
     "ename": "NegatifDegerGirmeError",
     "evalue": "Custom hata",
     "output_type": "error",
     "traceback": [
      "\u001b[1;31m---------------------------------------------------------------------------\u001b[0m",
      "\u001b[1;31mNegatifDegerGirmeError\u001b[0m                    Traceback (most recent call last)",
      "\u001b[1;32m~\\AppData\\Local\\Temp/ipykernel_2136/753900488.py\u001b[0m in \u001b[0;36m<module>\u001b[1;34m\u001b[0m\n\u001b[1;32m----> 1\u001b[1;33m \u001b[1;32mraise\u001b[0m \u001b[0mNegatifDegerGirmeError\u001b[0m\u001b[1;33m(\u001b[0m\u001b[1;34m\"Custom hata\"\u001b[0m\u001b[1;33m)\u001b[0m\u001b[1;33m\u001b[0m\u001b[1;33m\u001b[0m\u001b[0m\n\u001b[0m",
      "\u001b[1;31mNegatifDegerGirmeError\u001b[0m: Custom hata"
     ]
    }
   ],
   "source": [
    "raise NegatifDegerGirmeError(\"Custom hata\")"
   ]
  }
 ],
 "metadata": {
  "kernelspec": {
   "display_name": "Python 3",
   "language": "python",
   "name": "python3"
  },
  "language_info": {
   "codemirror_mode": {
    "name": "ipython",
    "version": 3
   },
   "file_extension": ".py",
   "mimetype": "text/x-python",
   "name": "python",
   "nbconvert_exporter": "python",
   "pygments_lexer": "ipython3",
   "version": "3.10.1"
  },
  "toc": {
   "base_numbering": 1,
   "nav_menu": {},
   "number_sections": true,
   "sideBar": true,
   "skip_h1_title": false,
   "title_cell": "Table of Contents",
   "title_sidebar": "Contents",
   "toc_cell": false,
   "toc_position": {},
   "toc_section_display": true,
   "toc_window_display": false
  },
  "varInspector": {
   "cols": {
    "lenName": 16,
    "lenType": 16,
    "lenVar": 40
   },
   "kernels_config": {
    "python": {
     "delete_cmd_postfix": "",
     "delete_cmd_prefix": "del ",
     "library": "var_list.py",
     "varRefreshCmd": "print(var_dic_list())"
    },
    "r": {
     "delete_cmd_postfix": ") ",
     "delete_cmd_prefix": "rm(",
     "library": "var_list.r",
     "varRefreshCmd": "cat(var_dic_list()) "
    }
   },
   "types_to_exclude": [
    "module",
    "function",
    "builtin_function_or_method",
    "instance",
    "_Feature"
   ],
   "window_display": false
  }
 },
 "nbformat": 4,
 "nbformat_minor": 5
}
