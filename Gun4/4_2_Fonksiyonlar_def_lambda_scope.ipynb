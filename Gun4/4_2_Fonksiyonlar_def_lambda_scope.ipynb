{
 "cells": [
  {
   "cell_type": "markdown",
   "id": "eb49efb4",
   "metadata": {},
   "source": [
    "## Fonksiyonlar\n",
    "\n",
    "* Kod bloklarına isim vermektir. Birden fazla yerde kullanacağımız kodları fonksion olarak tanımlayıp moduler bir programlama yapmak.\n",
    "\n",
    "```python\n",
    "\n",
    "def fonksiyonAdi(parametreler):\n",
    "    pass\n",
    "    \n",
    "    #return veya return None ile herhangi bir noktadan fonksiyondan çıkabilirsiniz.\n",
    "    \n",
    "    #geriye değer döndüreceksek\n",
    "    return GeriyeDonecekDeger #herhangi bir tip döndürülebilir, hatta fonksiyon bile döndürülebilir.\n",
    "```\n",
    "\n",
    "* Fonksiyonları çalıştırmak için (). () kullanmazsa fonksiyonu nesne olarak ifade edeiyoruz demektir.\n",
    "* Parametrelerle ilgili durumlar:\n",
    "    * Parametre almayabilir\n",
    "    * parametreler varsayılan değer alabilir. (parametre=varsayılandeğer)\n",
    "    * `*parametreAdi` sınırsız değer alır.\n",
    "    * `**parametreAdi` sınırsız key:value şeklinde değer alır. İçeride dict olarak temsil edilir.\n",
    "    * varsayılan değere sahip parametreler sona yazılır.\n",
    "    * parametrelere değer atayacaksak adını veya sırasını kullanırız.\n",
    "* Fonksiyonlara açıklama/help eklemek için fonksiyon adından sonra metin yazar.\n",
    "* `__doc__` attributune değer atayarak help'e ek bilgi belirtilebilirsiniz \n",
    "    "
   ]
  },
  {
   "cell_type": "code",
   "execution_count": 3,
   "id": "955b5c70",
   "metadata": {},
   "outputs": [],
   "source": [
    "#parametre almasa bile tanımlarken () kullanırız.\n",
    "def c2f(c_sicaklik):\n",
    "    \"\"\"\n",
    "        Bu fonksiyon C'yi F'ye çevirir.\n",
    "        \n",
    "        Parametreler:\n",
    "        ---------------------------\n",
    "        c_sicaklik: float cinsinden C sıcaklıktır.\n",
    "        \n",
    "        return:\n",
    "        ---------------------------\n",
    "        str tipinden C=F döndürür.\n",
    "        \n",
    "    \"\"\"\n",
    "    f_sicaklik = 1.8*c_sicaklik + 32\n",
    "    \n",
    "    return f\"{c_sicaklik} C = {f_sicaklik} F\"    "
   ]
  },
  {
   "cell_type": "code",
   "execution_count": 7,
   "id": "cc36e86a",
   "metadata": {},
   "outputs": [
    {
     "name": "stdout",
     "output_type": "stream",
     "text": [
      "Sonuc:  24 C = 75.2 F\n"
     ]
    }
   ],
   "source": [
    "#çalıştıralım\n",
    "sonuc = c2f(24)\n",
    "\n",
    "print(\"Sonuc: \",sonuc)"
   ]
  },
  {
   "cell_type": "code",
   "execution_count": 12,
   "id": "bb5fb3d0",
   "metadata": {},
   "outputs": [
    {
     "name": "stdout",
     "output_type": "stream",
     "text": [
      "\n",
      "        Bu fonksiyon C'yi F'ye çevirir.\n",
      "        \n",
      "        Parametreler:\n",
      "        ---------------------------\n",
      "        c_sicaklik: float cinsinden C sıcaklıktır.\n",
      "        \n",
      "        return:\n",
      "        ---------------------------\n",
      "        str tipinden C=F döndürür.\n",
      "        \n",
      "    \n"
     ]
    }
   ],
   "source": [
    "#help(c2f) #fonskiyonun isminden sonra yazdıklarımız görünür.\n",
    "print(c2f.__doc__)"
   ]
  },
  {
   "cell_type": "code",
   "execution_count": 14,
   "id": "2e650c85",
   "metadata": {},
   "outputs": [
    {
     "name": "stdout",
     "output_type": "stream",
     "text": [
      "Help on function c2f in module __main__:\n",
      "\n",
      "c2f(c_sicaklik)\n",
      "            Bu fonksiyon C'yi F'ye çevirir.\n",
      "            \n",
      "            Parametreler:\n",
      "            ---------------------------\n",
      "            c_sicaklik: float cinsinden C sıcaklıktır.\n",
      "            \n",
      "            return:\n",
      "            ---------------------------\n",
      "            str tipinden C=F döndürür.\n",
      "            \n",
      "        \n",
      "    Bu satır __doc__ ile eklendi\n",
      "    ----> Bu satır __doc__ ile eklendi\n",
      "\n"
     ]
    }
   ],
   "source": [
    "#dokumantasyonu geliştirmek için __doc__ attributunden faydalanabiliriz.\n",
    "c2f.__doc__ +=\"\\n----> Bu satır __doc__ ile eklendi\"\n",
    "\n",
    "help(c2f)"
   ]
  },
  {
   "cell_type": "code",
   "execution_count": 15,
   "id": "4755edcb",
   "metadata": {},
   "outputs": [],
   "source": [
    "#örn: Bedeb kitle indexi (Obezite seviyesini hesaplayalım)\n",
    "\n",
    "def obezetiSeviyem(kilo, boy):\n",
    "    '''\n",
    "        Bu Fonksiyon beden kitle indexi üzerinden obezite seviyesini hesaplar\n",
    "        \n",
    "        Parametreler:\n",
    "        -----------------------\n",
    "        kilo: kg cinsinsinden kilonuz\n",
    "        boy : m cinsinden boyunuz\n",
    "    '''\n",
    "    \n",
    "    bki = kilo / boy**2\n",
    "    \n",
    "    if bki >= 40:\n",
    "        return \"3. Derece obez\"\n",
    "    elif 35<= bki <40: #elif yapısı için bki>=35 yeterlidir. aralık kullanımını hatırlıyoruz.\n",
    "        return \"2. Derece obez\"\n",
    "    elif 30<= bki <35: \n",
    "        return \"1. Derece obez\"\n",
    "    elif 25<= bki <30: \n",
    "        return \"Hafif şişman\"\n",
    "    elif 18.5<= bki <25: \n",
    "        return \"Normal\"\n",
    "    elif 17<= bki <18.5: \n",
    "        return \"Hafif düzeyde zayıf\"\n",
    "    elif 16<= bki <17: \n",
    "        return \"Orta düzeyde zayıf\"\n",
    "    else:\n",
    "        return \"Ağır düzeyde zayıf\"\n",
    "    \n",
    "#not return ifadesini gördüğün fonksiyondan çıkar."
   ]
  },
  {
   "cell_type": "code",
   "execution_count": 21,
   "id": "9b066525",
   "metadata": {},
   "outputs": [
    {
     "data": {
      "text/plain": [
       "'Hafif düzeyde zayıf'"
      ]
     },
     "execution_count": 21,
     "metadata": {},
     "output_type": "execute_result"
    }
   ],
   "source": [
    "obezetiSeviyem(80,2.10)"
   ]
  },
  {
   "cell_type": "markdown",
   "id": "f6c0662f",
   "metadata": {},
   "source": [
    "### Fonksiyon Parametreler"
   ]
  },
  {
   "cell_type": "code",
   "execution_count": 22,
   "id": "eee8ec0c",
   "metadata": {},
   "outputs": [],
   "source": [
    "#varsayılan değer tanımlama\n",
    "def fnkVarsayilaDegerliParametre(p1,p2=\"Varsayilan Değer\"):\n",
    "    print(\"p1: \",p1)\n",
    "    print(\"p2: \",p2)"
   ]
  },
  {
   "cell_type": "code",
   "execution_count": 25,
   "id": "a86eed4b",
   "metadata": {},
   "outputs": [
    {
     "name": "stdout",
     "output_type": "stream",
     "text": [
      "p1:  Ali\n",
      "p2:  Varsayilan Değer\n"
     ]
    }
   ],
   "source": [
    "#fnkVarsayilaDegerliParametre(\"Ali\",\"Uçan\")\n",
    "#fnkVarsayilaDegerliParametre(p1=\"Ali\",p2=\"Uçan\")\n",
    "fnkVarsayilaDegerliParametre(\"Ali\") #parametre aıdnı yazmaksak tanmlanan sırada atama yaparız."
   ]
  },
  {
   "cell_type": "code",
   "execution_count": 26,
   "id": "1f3f9ead",
   "metadata": {},
   "outputs": [],
   "source": [
    "def sinirsizDegerliParametreler(*sinirsiz, **sinirsizKeyValue):\n",
    "    print(\"sinirsiz: \",sinirsiz)\n",
    "    print(\"sinirsizKeyValue: \",sinirsizKeyValue)"
   ]
  },
  {
   "cell_type": "code",
   "execution_count": 28,
   "id": "fa32626a",
   "metadata": {},
   "outputs": [
    {
     "name": "stdout",
     "output_type": "stream",
     "text": [
      "sinirsiz:  (1, 2, 3)\n",
      "sinirsizKeyValue:  {'ad': 'Ali', 'soyad': 'Uçan'}\n"
     ]
    }
   ],
   "source": [
    "#sınırsız değerler girelim\n",
    "#sinirsizDegerliParametreler(1,2,3,\"Ali\",\"Veli\") #sadece sinirsiz parametresine atandı.\n",
    "sinirsizDegerliParametreler(1,2,3, ad=\"Ali\",soyad=\"Uçan\")"
   ]
  },
  {
   "cell_type": "code",
   "execution_count": 29,
   "id": "5e8487cf",
   "metadata": {},
   "outputs": [],
   "source": [
    "#soru:\n",
    "#parametre olarak alınan sayıları toplayan bir fonksiyon yazalım.\n",
    "def fnk_topla(*sayilar):\n",
    "    toplam=0\n",
    "    \n",
    "    for s in sayilar: #tuple olarak döner.\n",
    "        toplam+=s\n",
    "    \n",
    "    return toplam"
   ]
  },
  {
   "cell_type": "code",
   "execution_count": 31,
   "id": "bbea0ad7",
   "metadata": {},
   "outputs": [
    {
     "data": {
      "text/plain": [
       "159"
      ]
     },
     "execution_count": 31,
     "metadata": {},
     "output_type": "execute_result"
    }
   ],
   "source": [
    "fnk_topla(1,2,3)\n",
    "fnk_topla(1,2,3,32,1,3,21,3,21,3,12,32,1,3,21)"
   ]
  },
  {
   "cell_type": "markdown",
   "id": "1492c2ed",
   "metadata": {},
   "source": [
    "### iç içe fonksiyonlar"
   ]
  },
  {
   "cell_type": "code",
   "execution_count": 32,
   "id": "a9fc676c",
   "metadata": {},
   "outputs": [],
   "source": [
    "def Uye(ad,yas):\n",
    "    print(\"Kayıt işlemi başlatılıyor....\")\n",
    "    \n",
    "    #iç fonksiyonlar (içeride tanmlamak zorunda değiliz.)\n",
    "    def CocukKayit(adet):\n",
    "        print(f\"------> {adet} adet çocuk için kayıt aldı.\")\n",
    "    \n",
    "    def YetiskinKayit(adet):\n",
    "        print(f\"------> {adet} adet yetişkin için kayıt aldı.\")\n",
    "        \n",
    "    \n",
    "    #return ile fonksiyon döndürelim\n",
    "    if yas<18:\n",
    "        return CocukKayit #() kullanırsam fonksiyonu çalışırmış oluruz. Biz fonksiyon nesnesini veriyoruz.\n",
    "    else:\n",
    "        return YetiskinKayit"
   ]
  },
  {
   "cell_type": "code",
   "execution_count": 34,
   "id": "3276ca39",
   "metadata": {},
   "outputs": [
    {
     "name": "stdout",
     "output_type": "stream",
     "text": [
      "Kayıt işlemi başlatılıyor....\n",
      "------> 3 adet çocuk için kayıt aldı.\n"
     ]
    }
   ],
   "source": [
    "#type(Uye(\"Ali\",10)) #function\n",
    "\n",
    "fnk = Uye(\"Ali\",10)\n",
    "fnk(3) #iç fonksiyonun adet parametresine 3 değeri gönderilir."
   ]
  },
  {
   "cell_type": "markdown",
   "id": "e6ddd083",
   "metadata": {},
   "source": [
    "### recusion\n",
    "* kendini çağıran fonksiyonlardır. Kestirilemeyen derinliğe sahip işler için kullanılır.\n",
    "* ürün veya şirket hiyerarşisi gibi yerde kullanılabilir."
   ]
  },
  {
   "cell_type": "code",
   "execution_count": 35,
   "id": "c7c601c0",
   "metadata": {},
   "outputs": [],
   "source": [
    "#örn: faktöriel hesabı yapalım.\n",
    "#4! = 4*3*2*1 ve kural: 0! = 1 , 1!=1\n",
    "\n",
    "def faktoriel(n):\n",
    "    if n in [0,1]: #[0,1] listesinde bu değer var mı?\n",
    "        return 1\n",
    "    else:\n",
    "        return n*faktoriel(n-1)"
   ]
  },
  {
   "cell_type": "code",
   "execution_count": 37,
   "id": "db78bb45",
   "metadata": {},
   "outputs": [
    {
     "data": {
      "text/plain": [
       "3628800"
      ]
     },
     "execution_count": 37,
     "metadata": {},
     "output_type": "execute_result"
    }
   ],
   "source": [
    "faktoriel(10)"
   ]
  },
  {
   "cell_type": "markdown",
   "id": "1318502c",
   "metadata": {},
   "source": [
    "### Anonymous Function (lambda)\n",
    "* tek satırda fonksiyon yazmamızı sağlar\n",
    "\n",
    "```python\n",
    "#klasik yöntem\n",
    "def fnk(parametreler):\n",
    "    yapılacak\n",
    "    return donecekDeger\n",
    "\n",
    "#lambda\n",
    "lambda parametreler: donecekDegerYapılacakIslem\n",
    "'''\n",
    "    lambada --> zorunlu\n",
    "        :   --> solunda parmetreler sağında fonksiyon gövdesi belirtilir.\n",
    "'''\n",
    "```"
   ]
  },
  {
   "cell_type": "code",
   "execution_count": 38,
   "id": "b1f7a02d",
   "metadata": {},
   "outputs": [],
   "source": [
    "#klaskik yöntem\n",
    "def c2d(c):\n",
    "    return 1.8*c + 32\n",
    "\n",
    "#lambda\n",
    "c2f = lambda c: 1.8*c + 32"
   ]
  },
  {
   "cell_type": "code",
   "execution_count": 39,
   "id": "ca4db5e2",
   "metadata": {},
   "outputs": [
    {
     "data": {
      "text/plain": [
       "73.4"
      ]
     },
     "execution_count": 39,
     "metadata": {},
     "output_type": "execute_result"
    }
   ],
   "source": [
    "c2f(23)"
   ]
  },
  {
   "cell_type": "markdown",
   "id": "e6ac5ccb",
   "metadata": {},
   "source": [
    "### Scope Kavramı\n",
    "\n",
    "* kodun (değişkenin) geçerli olduğu bölgeye scope ve namespace denir.\n",
    "    * global: üst seviye\n",
    "    * local : mevcut seviye\n",
    "    \n",
    "* mevzu şu:\n",
    "    * fonskiyon içinde ve dışında aynı isimde değişken tanımlarsak ne olacak? Hangi scopetaki gelecek?\n",
    "    * her iki scopeta tanımlanmış değere ulaşabilir miyim?\n",
    "        * `global()[\"nesneAdi\"]` ile global seviyedeki nesnelere erişiriz.\n",
    "        * `local()[\"nesneAdi\"]` ile mevcut seviedeki nesnelere erişiriz.\n",
    "        * local seviye global seviyede erişilebilecek bir nesne tanımlamak için `global degiskenAdi`"
   ]
  },
  {
   "cell_type": "code",
   "execution_count": 50,
   "id": "c9fb2c1b",
   "metadata": {},
   "outputs": [
    {
     "name": "stdout",
     "output_type": "stream",
     "text": [
      "local x :  iç\n",
      "global x :  dış\n",
      "fnk içinde tanımlandı.\n"
     ]
    }
   ],
   "source": [
    "#global\n",
    "x = \"dış\"\n",
    "\n",
    "def fnk():\n",
    "    #local\n",
    "    #print(x) #dışarıdaki x'i aldı\n",
    "    #eğer x içeride tanımlanırsa. tanımlama öncesinde kullanamayız. çünkü artık dışarıdaki değil içerideki x kastedilir.\n",
    "    \n",
    "    #---------\n",
    "    x = \"iç\"\n",
    "    #print(x) #içeride tanımlı x'i çağırır.\n",
    "    #---------\n",
    "    \n",
    "    #---------\n",
    "    print(\"local x : \", x) #locals()[\"x\"]\n",
    "    print(\"global x : \", globals()[\"x\"]) #globaldaeki x'in değerii verir \n",
    "    #---------\n",
    "   \n",
    "    #globalden erişilebilecek bir nesne tanımlayalım\n",
    "    global icerideTanimliglobalDegisken\n",
    "    icerideTanimliglobalDegisken=\"fnk içinde tanımlandı.\"\n",
    "    \n",
    "#----------\n",
    "def fnk_farklıfonksiyon():\n",
    "    print(icerideTanimliglobalDegisken)\n",
    "#----------\n",
    "fnk()\n",
    "\n",
    "#----\n",
    "#print(icerideTanimliglobalDegisken)\n",
    "fnk_farklıfonksiyon()"
   ]
  }
 ],
 "metadata": {
  "kernelspec": {
   "display_name": "Python 3",
   "language": "python",
   "name": "python3"
  },
  "language_info": {
   "codemirror_mode": {
    "name": "ipython",
    "version": 3
   },
   "file_extension": ".py",
   "mimetype": "text/x-python",
   "name": "python",
   "nbconvert_exporter": "python",
   "pygments_lexer": "ipython3",
   "version": "3.10.1"
  },
  "toc": {
   "base_numbering": 1,
   "nav_menu": {},
   "number_sections": true,
   "sideBar": true,
   "skip_h1_title": false,
   "title_cell": "Table of Contents",
   "title_sidebar": "Contents",
   "toc_cell": false,
   "toc_position": {},
   "toc_section_display": true,
   "toc_window_display": false
  },
  "varInspector": {
   "cols": {
    "lenName": 16,
    "lenType": 16,
    "lenVar": 40
   },
   "kernels_config": {
    "python": {
     "delete_cmd_postfix": "",
     "delete_cmd_prefix": "del ",
     "library": "var_list.py",
     "varRefreshCmd": "print(var_dic_list())"
    },
    "r": {
     "delete_cmd_postfix": ") ",
     "delete_cmd_prefix": "rm(",
     "library": "var_list.r",
     "varRefreshCmd": "cat(var_dic_list()) "
    }
   },
   "types_to_exclude": [
    "module",
    "function",
    "builtin_function_or_method",
    "instance",
    "_Feature"
   ],
   "window_display": false
  }
 },
 "nbformat": 4,
 "nbformat_minor": 5
}
